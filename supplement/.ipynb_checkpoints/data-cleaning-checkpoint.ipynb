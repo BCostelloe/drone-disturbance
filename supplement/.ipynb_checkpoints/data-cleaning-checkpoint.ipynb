{
 "cells": [
  {
   "cell_type": "code",
   "execution_count": null,
   "metadata": {},
   "outputs": [],
   "source": [
    "# This notebook contains the code to process the raw drone flight logs and wind data to\n",
    "# generate the clean files to be processed and analyzed."
   ]
  },
  {
   "cell_type": "code",
   "execution_count": 2,
   "metadata": {},
   "outputs": [
    {
     "data": {
      "text/plain": [
       "'/Users/blaircostelloe/Dropbox/Publications/DroneDisturbance/drone-disturbance/supplement'"
      ]
     },
     "execution_count": 2,
     "metadata": {},
     "output_type": "execute_result"
    }
   ],
   "source": [
    "# load required packages\n",
    "import os\n",
    "import pandas as pd\n",
    "import glob\n",
    "from data_cleaning_functions import unit_conversion, haversine\n",
    "# Working directory\n",
    "os.getcwd()"
   ]
  },
  {
   "cell_type": "code",
   "execution_count": 3,
   "metadata": {},
   "outputs": [],
   "source": [
    "# Define relevant directories\n",
    "\n",
    "# location where raw drone logs and wind data are stored\n",
    "raw_log_directory = 'raw-data/drone-flight-files/' \n",
    "raw_wind_directory = 'raw-data/wind-data-csv/'\n",
    "\n",
    "# location where cleaned logs should be stored\n",
    "clean_log_directory = 'clean-data/drone-logs/' \n",
    "clean_wind_directory = 'clean-data/wind-data/'"
   ]
  },
  {
   "cell_type": "code",
   "execution_count": 4,
   "metadata": {},
   "outputs": [],
   "source": [
    "# 1: CONVERT RAW DRONE LOGS TO METRIC UNITS, DISCARD UNNECESSARY DATA COLUMNS\n",
    "unit_conversion(directory = raw_log_directory, new_directory = clean_log_directory)"
   ]
  },
  {
   "cell_type": "code",
   "execution_count": 5,
   "metadata": {},
   "outputs": [],
   "source": [
    "# 2: CLEAN WIND DATA CSV FILES\n",
    "# We scraped wind data tables for each flight from Airdata.com, but \n",
    "# the scraping was imperfect: there are unnecessary columns and \n",
    "# random garbage characters from the HTML code. Here we remove these,\n",
    "# convert units as necessary and save as cleaned csv files.\n",
    "\n",
    "# Get list of wind files\n",
    "wind_files = glob.glob(raw_wind_directory + '*.csv')\n",
    "if not os.path.exists(clean_wind_directory):\n",
    "    os.makedirs(clean_wind_directory)\n",
    "\n",
    "for i in wind_files:\n",
    "    df = pd.read_csv(i)\n",
    "    df.dropna(inplace = True)\n",
    "    flight = os.path.splitext(os.path.splitext(os.path.basename(i))[0])[0]\n",
    "    \n",
    "    # Convert flightTime to milliseconds\n",
    "    df['minutes'] = [int(i.split('m')[0]) for i in df['flightTime']]\n",
    "    df['temp'] = [i.split(' ')[1] for i in df['flightTime']]\n",
    "    df['seconds'] = [int(i.split('s')[0]) for i in df['temp']]\n",
    "    df['milliseconds'] = [((a * 60) + b) * 1000 for a,b in zip(df['minutes'], df['seconds'])]\n",
    "    \n",
    "    # Drop first 2 garbage characters in windSpeed\n",
    "    df['windspeed'] = [float(i[2 : : ]) for i in df['windSpeed']]\n",
    "    \n",
    "    # Rename windDirection column for consistency\n",
    "    df['wind_direction'] = df['windDirection']\n",
    "    \n",
    "    # Keep only necessary columns & re-order\n",
    "    cols_to_keep = ['milliseconds', 'wind_direction', 'windspeed']\n",
    "    df.drop(df.columns.difference(cols_to_keep), axis = 1, inplace = True)\n",
    "    df = df[cols_to_keep]\n",
    "    \n",
    "    # Save cleaned dataframe in new directory\n",
    "    df.to_csv(clean_wind_directory + flight + '_wind.csv', index = False)"
   ]
  },
  {
   "cell_type": "code",
   "execution_count": 6,
   "metadata": {},
   "outputs": [],
   "source": [
    "# 3: CORRECT LOG AND WIND DATA FOR FLIGHT 071-01\n",
    "# The drone log for flight ob071-01 is anomalous. The video feed malfunctioned during flight so we briefly\n",
    "# disconnected the iPad from the DJI controller. This interrupted the drone log recording, resulting in a drone\n",
    "# log split into two parts. When logging resumed, the drone calculated its distance as its distance from its \n",
    "# location when the iPad was plugged back in, rather than its distance from the launch point. It also calculated \n",
    "# its maximum altitude, ascent, speed, and distance relative to the moment that the iPad was plugged back in. \n",
    "# This code corrects the affected columns in the second part of the drone log, appends the second part to the \n",
    "# first part, and saves the log as a single file.\n",
    "\n",
    "# Read in log fragments\n",
    "log1 = pd.read_csv(clean_log_directory + 'flightlog_ob071-01-1_metric.csv')\n",
    "log2 = pd.read_csv(clean_log_directory + 'flightlog_ob071-01-2_metric.csv')\n",
    "\n",
    "# Correct distance column in log2\n",
    "# calculate distance between each location in log2 and the starting location in log 1\n",
    "distance_km = [haversine(log1['latitude'][0], log1['longitude'][0], x, y) for x, y in zip(log2['latitude'], log2['longitude'])]\n",
    "# convert km to m\n",
    "distance_m_new = [i * 1000 for i in distance_km]\n",
    "# replace distance_m column with new values\n",
    "log2 = log2.assign(distance_m=distance_m_new)\n",
    "\n",
    "# Correct max altitude, ascent, speed and distance columns in log2\n",
    "# for each column, compare each value to the last value in log 1 and take the higher value\n",
    "max_altitude_m_new = [max(log1['max_altitude_m'][6391], x) for x in log2['max_altitude_m']]\n",
    "max_ascent_m_new = [max(log1['max_ascent_m'][6391], x) for x in log2['max_ascent_m']]\n",
    "max_speed_kph_new = [max(log1['max_speed_kph'][6391], x) for x in log2['max_speed_kph']]\n",
    "max_distance_m_new = [max(log1['max_distance_m'][6391], x) for x in log2['max_distance_m']]\n",
    "# replace original columns with new values\n",
    "log2 = log2.assign(max_altitude_m=max_altitude_m_new)\n",
    "log2 = log2.assign(max_ascent_m=max_ascent_m_new)\n",
    "log2 = log2.assign(max_speed_kph=max_speed_kph_new)\n",
    "log2 = log2.assign(max_distance_m=max_distance_m_new)\n",
    "\n",
    "# Combine the two log fragments\n",
    "log1.append(log2, ignore_index = True)\n",
    "\n",
    "# Save the new drone log and remove the fragment files\n",
    "log1.to_csv(clean_log_directory + 'flightlog_ob071-01_metric.csv', index = False)\n",
    "os.remove(clean_log_directory + 'flightlog_ob071-01-1_metric.csv')\n",
    "os.remove(clean_log_directory + 'flightlog_ob071-01-2_metric.csv')\n",
    "\n",
    "# Combine wind files for ob071-01\n",
    "log1 = pd.read_csv(clean_wind_directory + 'ob071-01-1_wind.csv')\n",
    "log2 = pd.read_csv(clean_wind_directory + 'ob071-01-2_wind.csv')\n",
    "log1.append(log2, ignore_index = True)\n",
    "log1.to_csv(clean_wind_directory + 'ob071-01_wind.csv', index = False)\n",
    "os.remove(clean_wind_directory + 'ob071-01-1_wind.csv')\n",
    "os.remove(clean_wind_directory + 'ob071-01-2_wind.csv')"
   ]
  },
  {
   "cell_type": "code",
   "execution_count": null,
   "metadata": {},
   "outputs": [],
   "source": []
  }
 ],
 "metadata": {
  "kernelspec": {
   "display_name": "Python 3",
   "language": "python",
   "name": "python3"
  },
  "language_info": {
   "codemirror_mode": {
    "name": "ipython",
    "version": 3
   },
   "file_extension": ".py",
   "mimetype": "text/x-python",
   "name": "python",
   "nbconvert_exporter": "python",
   "pygments_lexer": "ipython3",
   "version": "3.7.7"
  }
 },
 "nbformat": 4,
 "nbformat_minor": 4
}
