{
 "cells": [
  {
   "cell_type": "markdown",
   "metadata": {},
   "source": [
    "This code uses digital terrain models (DTMs) and digital surface models (DSMs) to calculate the bushiness (% bush) of the habitat within a 100m radius of the group's location at the start of each flight. The DTMs and DSMs were created using DJI and eBee drones to photograph the landscape in a grid around the observation area. These photos were then processed using the photogrammetry software Pix4D.\n",
    "\n",
    "The size of the DTM and DSM files prevents them from being included in this repository. Code relying on these files below has been commented out.\n",
    "\n",
    "The code also uses elevation data from NASA's SRTM dataset to calculate the difference in elevation between the launch point and the group's location, and adjust's the drone's \"ascent\" measurement to reflect this.\n",
    "\n",
    "Tasks:\n",
    "1. Upsample DTMs to match the resolution of the DSMs\n",
    "2. Crop DSMs and upsampled DTMs around the group start location for each observation.\n",
    "3. Create vegetation rasters by subtracting cropped DTMs from DSMs. Save cropped vegetation rasters.\n",
    "4. Read in each cropped vegetation raster and calculate proportion of each circle taht is 1; save this \"bushiness score\" in the env_variables_clip.csv file\n",
    "5. Use SRTM raster to get the difference in group elevation between the launch location and the group start location for each observation. Save this value in the drone_variables_clip2.csv file\n",
    "6. Generate plots demonstrating the validity of using SRTM data to account for ground elevation differences."
   ]
  },
  {
   "cell_type": "code",
   "execution_count": 1,
   "metadata": {},
   "outputs": [
    {
     "ename": "ModuleNotFoundError",
     "evalue": "No module named 'rasterio'",
     "output_type": "error",
     "traceback": [
      "\u001b[0;31m---------------------------------------------------------------------------\u001b[0m",
      "\u001b[0;31mModuleNotFoundError\u001b[0m                       Traceback (most recent call last)",
      "\u001b[0;32m<ipython-input-1-b2064097668d>\u001b[0m in \u001b[0;36m<module>\u001b[0;34m\u001b[0m\n\u001b[1;32m      3\u001b[0m \u001b[0;32mimport\u001b[0m \u001b[0mpandas\u001b[0m \u001b[0;32mas\u001b[0m \u001b[0mpd\u001b[0m\u001b[0;34m\u001b[0m\u001b[0;34m\u001b[0m\u001b[0m\n\u001b[1;32m      4\u001b[0m \u001b[0;32mimport\u001b[0m \u001b[0mnumpy\u001b[0m \u001b[0;32mas\u001b[0m \u001b[0mnp\u001b[0m\u001b[0;34m\u001b[0m\u001b[0;34m\u001b[0m\u001b[0m\n\u001b[0;32m----> 5\u001b[0;31m \u001b[0;32mimport\u001b[0m \u001b[0mrasterio\u001b[0m \u001b[0;32mas\u001b[0m \u001b[0mrio\u001b[0m\u001b[0;34m\u001b[0m\u001b[0;34m\u001b[0m\u001b[0m\n\u001b[0m\u001b[1;32m      6\u001b[0m \u001b[0;32mimport\u001b[0m \u001b[0mrasterio\u001b[0m\u001b[0;34m.\u001b[0m\u001b[0menums\u001b[0m \u001b[0;32mas\u001b[0m \u001b[0mResampling\u001b[0m\u001b[0;34m\u001b[0m\u001b[0;34m\u001b[0m\u001b[0m\n\u001b[1;32m      7\u001b[0m \u001b[0;32mimport\u001b[0m \u001b[0mglob\u001b[0m\u001b[0;34m\u001b[0m\u001b[0;34m\u001b[0m\u001b[0m\n",
      "\u001b[0;31mModuleNotFoundError\u001b[0m: No module named 'rasterio'"
     ]
    }
   ],
   "source": [
    "# Load required packages\n",
    "import os\n",
    "import pandas as pd\n",
    "import numpy as np\n",
    "import rasterio as rio\n",
    "import rasterio.enums as Resampling\n",
    "import glob\n",
    "\n",
    "# get working directory\n",
    "os.getcwd()"
   ]
  },
  {
   "cell_type": "code",
   "execution_count": 8,
   "metadata": {},
   "outputs": [],
   "source": [
    "# Import necessary data\n",
    "maps = pd.read_csv('/Users/blaircostelloe/Dropbox/Publications/DroneDisturbance/drone-disturbance/supplement/clean-data/metadata.csv')\n",
    "maps = maps.replace('NAN', np.nan)\n",
    "clip_df = pd.read_csv('/Users/blaircostelloe/Dropbox/Publications/DroneDisturbance/drone-disturbance/supplement/processed-data/drone_variables_clip.csv')"
   ]
  },
  {
   "cell_type": "code",
   "execution_count": 13,
   "metadata": {},
   "outputs": [],
   "source": [
    "# Define variables\n",
    "map_list = maps['map_area'].dropna().unique()\n",
    "\n",
    "# Define directories\n",
    "DSM_directory = '/Volumes/Pegasus/Herd_Hover/drone-disturbance/DSMs'\n",
    "DTM_directory = '/Volumes/Pegasus/Herd_Hover/drone-disturbance/DTMs'\n",
    "DTMup_folder = '/Volumes/Pegasus/Herd_Hover/drone-disturbance/DTMs_upsampled'"
   ]
  },
  {
   "cell_type": "code",
   "execution_count": 14,
   "metadata": {},
   "outputs": [],
   "source": [
    "# add map area to clip_df\n",
    "clip_df['map_area'] = [maps.loc[maps['flight'] == i, 'map_area'].values[0] for i in clip_df['flight']]"
   ]
  },
  {
   "cell_type": "markdown",
   "metadata": {},
   "source": [
    "Task 1: Upsample DTMs to match the resolution of the DSMs"
   ]
  },
  {
   "cell_type": "code",
   "execution_count": null,
   "metadata": {},
   "outputs": [],
   "source": [
    "if not os.path.exists(DTMup_folder):\n",
    "    os.makedirs(DTMup_folder)\n",
    "    \n",
    "for i in map_list:\n",
    "    # check if this map area has already been upsampled\n",
    "    if not os.path.exists(str(DTMup_folder + i +'_DTM_upsampled.tif')):\n",
    "        # get the relevant DSM and DTM\n",
    "        dsm_file = str(DSM_directory + i + '_dsm.tif')\n",
    "        dtm_file = str(DTM_directory + i + '_dtm.tif')\n",
    "        dtm = rio.open(dtm_file)\n",
    "        dsm = rio.open(dsm_file)\n",
    "        # resample DTM to match dimensions of DSM\n",
    "        dtm_1 = dtm.read(1, out_shape = (dsm.height, dsm.width), resampling = Resampling.bilinear)\n",
    "        # save upsampled DTM\n",
    "        DTM_up = rio.open(str(DTMup_folder + i + '_DTM_upsampled.tif'),'w', **dsm.profile, BIGTIFF = 'Yes')\n",
    "        DTM_up.write(dtm_1, 1)\n",
    "        dsm.close()"
   ]
  },
  {
   "cell_type": "markdown",
   "metadata": {},
   "source": [
    "Task 2: Crop DSMs and upsampled DTMs around the group start location for each observation \n",
    "and\n",
    "Task 3: Create vegetation rasters by subtracting cropped DTMs from DSMs. Save cropped vegetation rasters."
   ]
  },
  {
   "cell_type": "code",
   "execution_count": null,
   "metadata": {},
   "outputs": [],
   "source": [
    "# Set desired radius in meters\n",
    "buffer_m = 100\n",
    "vegetation_clip_folder = str('veg_clips_' + buffer_m + 'm/')\n",
    "\n",
    "# Make each observation start point into a geometry and apply buffer\n",
    "clip_df['map_area'] = [maps.loc[maps['flight'] == i, 'map_area'].values[0] for i in clip_df['flight']]\n",
    "clips = clip_df.dropna(subset = ['clip_start_lon', 'clip_start_lat', 'map_area'])\n",
    "# Convert observation strat points to Point Geometries\n",
    "geometry = [Point(xy) for xy in zip(clips.clip_start_lon, clips.clip_start_lat)]\n",
    "crs = {'init': 'epsg:4325'}\n",
    "geo_df = GeoDataFrame(clips, crs = crs, geometry = geometry)\n",
    "geo_df = geo_df.to_crs('EPSG:32637')\n",
    "# Buffer each clip start point by desired sample radius\n",
    "geo_df['geometry'] = geo_df['geometry'].buffer(buffer_m)\n",
    "\n",
    "# Then read in each set of map rasters in turn, crop to each buffered point geometry and save.\n",
    "for i in map_list:\n",
    "    dsm_file = str(DSM_directory + i + '_dsm.tif')\n",
    "    dtm_file = str(DTMup_folder + i + '_DTM_upsampled.tif')\n",
    "    dtm = rio.open(dtm_file)\n",
    "    dsm = rio.open(dsm_file)\n",
    "    \n",
    "    # subset the geo_df to include only observations that fall within this map area\n",
    "    map_obs = geo_df[geo_df['map_area'] == i]\n",
    "    # convert this to a list of dictionaries with just the flight name and clip type\n",
    "    polys = map_obs[['flight', 'clip_type', 'geometry']].to_dict('records')\n",
    "    \n",
    "    # now loop through the polygon objects in polys and for each one:\n",
    "    # clip the dtm and dsm to that extent\n",
    "    for p in polys:\n",
    "        if not os.path.exists(str(vegetation_clip_folder + p['flight'] + '_' + p['clip_type'] + '_vegheight.tif')):\n",
    "            shapes = []\n",
    "            shapes.append(p['geometry'])\n",
    "            out_dsm, out_dsm_transform = rio.mask.mask(dsm, shapes, crop = True)\n",
    "            out_dsm_meta = dsm.meta\n",
    "            out_dtm, out_dtm_transform = rio.mask.mask(dtm, shapes, crop = True)\n",
    "            out_dtm_meta = dtm.meta\n",
    "            \n",
    "            # subtract the clipped dtm from the clipped dsm\n",
    "            veg = np.where(((out_dsm == -10000.) | (out_dtm == -10000.0)), -10000., (out_dsm-out_dtm))\n",
    "            \n",
    "            # save the clipped raster as a new file\n",
    "            out_dsm_meta.update({'driver': 'GTiff',\n",
    "                                 'height': out_dsm.shape[1],\n",
    "                                 'width': out_dsm.shape[2],\n",
    "                                 'transform': out_dsm_transform})\n",
    "            veg_rast = rio.open(str(vegetation_clip_folder + p['flight'] + '_' + p['clip_type'] + '_vegheight.tif'), 'w', **out_dsm_meta)\n",
    "            veg_rast.write(veg)\n",
    "            veg_rast.close()\n",
    "    dsm.close()\n",
    "    dtm.close()"
   ]
  },
  {
   "cell_type": "markdown",
   "metadata": {},
   "source": [
    "Task 4: Read in each cropped vegetation raster and binarize. Calculate proportion of each circle that is1; store \"bushiness score\" in clip_df and save to env_variables_clip.csv"
   ]
  },
  {
   "cell_type": "code",
   "execution_count": null,
   "metadata": {},
   "outputs": [],
   "source": [
    "files = glob.glob(vegetation_clip_folder + '*.tif')\n",
    "bush_col = 'bushiness_' + str(buffer_m) + 'm'\n",
    "\n",
    "for i in files:\n",
    "    # get the name of the flight and the clip type\n",
    "    flight, clip = str.split(os.path.splitext(os.path.basename(i))[0], '_')[0:2]\n",
    "    name = str(flight + '_' + clip)\n",
    "    \n",
    "    # open and read the raster\n",
    "    raster = rio.open(i)\n",
    "    veg = raster.read(i)\n",
    "    \n",
    "    # calculate the number of data cells (that aren't the nodata value of -10000)\n",
    "    valid_cells = veg.size - (np.count_nonzero(veg == -10000))\n",
    "    # calculate the proportion of valid cells that are >1.5 m in height\n",
    "    prop_bush = np.count_nonzero(veg >= 1.5)/valid_cells\n",
    "    \n",
    "    clip_df.loc[(clip_df['flight'] == flight) & (clip_df['clip_type'] == clip), bush_col] = prop_bush\n",
    "    raster.close()"
   ]
  },
  {
   "cell_type": "code",
   "execution_count": null,
   "metadata": {},
   "outputs": [],
   "source": [
    "# Save env_variables_clip.csv\n",
    "cols_to_keep = ['flight', 'clip_type', bush_col]\n",
    "env_df = clip_df.drop(clip_df.columns.difference(cols_to_keep), axis = 1, inplace = False)\n",
    "env_df.to_csv('/Users/blaircostelloe/Dropbox/Publications/DroneDisturbance/drone-disturbance/supplement/processed-data/env_variables_clip.csv', index = False)"
   ]
  },
  {
   "cell_type": "markdown",
   "metadata": {},
   "source": [
    "Task 5: Use NASA SRTM raster to get the difference in ground elevation between the launch location and the group start location for each observation. Save this value in the drone_variables_clip2.csv file.\n",
    "\n",
    "I've downloaded an SRTM raster for the study area from https://earthexplorer.usgs.gov/ at a resolution of 1 arc-second."
   ]
  },
  {
   "cell_type": "code",
   "execution_count": null,
   "metadata": {},
   "outputs": [],
   "source": [
    "from rasterio.crs import CRS\n",
    "from rasterio.warp import calculate_default_transform, reproject, Resampling\n",
    "\n",
    "# First import the downloaded SRTM raster and convert to appropriate projection\n",
    "dat_crs = CRS.from_string('EPSG:32637')\n",
    "SRTM_raster = str('SRTM/n00_e036_1arc_v3.tif')"
   ]
  }
 ],
 "metadata": {
  "kernelspec": {
   "display_name": "Python 3",
   "language": "python",
   "name": "python3"
  },
  "language_info": {
   "codemirror_mode": {
    "name": "ipython",
    "version": 3
   },
   "file_extension": ".py",
   "mimetype": "text/x-python",
   "name": "python",
   "nbconvert_exporter": "python",
   "pygments_lexer": "ipython3",
   "version": "3.8.5"
  }
 },
 "nbformat": 4,
 "nbformat_minor": 4
}
