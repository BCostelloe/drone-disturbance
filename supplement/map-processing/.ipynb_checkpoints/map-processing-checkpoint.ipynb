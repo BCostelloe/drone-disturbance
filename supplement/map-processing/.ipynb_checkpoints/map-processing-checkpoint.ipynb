{
 "cells": [
  {
   "cell_type": "markdown",
   "metadata": {},
   "source": [
    "This code uses digital terrain models (DTMs) and digital surface models (DSMs) to calculate the bushiness (% bush) of the habitat within a 100m radius of the group's location at the start of each flight. The DTMs and DSMs were created using DJI and eBee drones to photograph the landscape in a grid around the observation area. These photos were then processed using the photogrammetry software Pix4D.\n",
    "\n",
    "The size of the DTMs, DSMs, and clipped vegetation raster files prevents them from being included in this repository. Code relying on these files below has been commented out.\n",
    "\n",
    "The code also uses elevation data from NASA's SRTM dataset to calculate the difference in elevation between the launch point and the group's location, and adjust's the drone's \"ascent\" measurement to reflect this.\n",
    "\n",
    "Tasks:\n",
    "1. Upsample DTMs to match the resolution of the DSMs\n",
    "2. Crop DSMs and upsampled DTMs around the group start location for each observation.\n",
    "3. Create vegetation rasters by subtracting cropped DTMs from DSMs. Save cropped vegetation rasters.\n",
    "4. Read in each cropped vegetation raster and calculate proportion of each circle taht is 1; save this \"bushiness score\" in the env_variables_clip.csv file\n",
    "5. Use SRTM raster to get the difference in group elevation between the launch location and the group start location for each observation. Save this value in the drone_variables_clip2.csv file\n",
    "6. Generate plots demonstrating the validity of using SRTM data to account for ground elevation differences.\n",
    "\n",
    "Note that this code requires the Rasterio package, which as of writing does not work with Python 3.8. This notebook should be run in a Python 3.7 environment."
   ]
  },
  {
   "cell_type": "code",
   "execution_count": 18,
   "metadata": {},
   "outputs": [
    {
     "data": {
      "text/plain": [
       "'/Users/blaircostelloe/Dropbox/Publications/DroneDisturbance/drone-disturbance/supplement/map-processing'"
      ]
     },
     "execution_count": 18,
     "metadata": {},
     "output_type": "execute_result"
    }
   ],
   "source": [
    "# Load required packages\n",
    "import os\n",
    "import pandas as pd\n",
    "import numpy as np\n",
    "import rasterio as rio\n",
    "import rasterio.enums as Resampling\n",
    "import glob\n",
    "from shapely.geometry import Point\n",
    "from geopandas import GeoDataFrame\n",
    "import rasterio.mask\n",
    "import seaborn as sns\n",
    "import matplotlib.pyplot as plt\n",
    "\n",
    "# get working directory\n",
    "os.getcwd()"
   ]
  },
  {
   "cell_type": "code",
   "execution_count": 19,
   "metadata": {},
   "outputs": [],
   "source": [
    "# Import necessary data\n",
    "maps = pd.read_csv('/Users/blaircostelloe/Dropbox/Publications/DroneDisturbance/drone-disturbance/supplement/clean-data/metadata.csv')\n",
    "maps = maps.replace('NAN', np.nan)\n",
    "clip_df = pd.read_csv('/Users/blaircostelloe/Dropbox/Publications/DroneDisturbance/drone-disturbance/supplement/processed-data/drone_variables_clip.csv')"
   ]
  },
  {
   "cell_type": "code",
   "execution_count": 20,
   "metadata": {},
   "outputs": [],
   "source": [
    "# Define variables\n",
    "map_list = maps['map_area'].dropna().unique()\n",
    "\n",
    "# Define directories\n",
    "DSM_directory = '/Volumes/Pegasus/Herd_Hover/drone-disturbance/DSMs/'\n",
    "DTM_directory = '/Volumes/Pegasus/Herd_Hover/drone-disturbance/DTMs/'\n",
    "DTMup_folder = '/Volumes/Pegasus/Herd_Hover/drone-disturbance/DTMs_upsampled/'"
   ]
  },
  {
   "cell_type": "code",
   "execution_count": 21,
   "metadata": {},
   "outputs": [],
   "source": [
    "# add map area to clip_df\n",
    "clip_df['map_area'] = [maps.loc[maps['flight'] == i, 'map_area'].values[0] for i in clip_df['flight']]"
   ]
  },
  {
   "cell_type": "markdown",
   "metadata": {},
   "source": [
    "Task 1: Upsample DTMs to match the resolution of the DSMs"
   ]
  },
  {
   "cell_type": "code",
   "execution_count": 8,
   "metadata": {},
   "outputs": [],
   "source": [
    "if not os.path.exists(DTMup_folder):\n",
    "    os.makedirs(DTMup_folder)\n",
    "    \n",
    "for i in map_list:\n",
    "    # check if this map area has already been upsampled\n",
    "    if not os.path.exists(str(DTMup_folder + i +'_DTM_upsampled.tif')):\n",
    "        # get the relevant DSM and DTM\n",
    "        dsm_file = str(DSM_directory + i + '_dsm.tif')\n",
    "        dtm_file = str(DTM_directory + i + '_dtm.tif')\n",
    "        dtm = rio.open(dtm_file)\n",
    "        dsm = rio.open(dsm_file)\n",
    "        # resample DTM to match dimensions of DSM\n",
    "        dtm_1 = dtm.read(1, out_shape = (dsm.height, dsm.width), resampling = Resampling.bilinear)\n",
    "        # save upsampled DTM\n",
    "        DTM_up = rio.open(str(DTMup_folder + i + '_DTM_upsampled.tif'),'w', **dsm.profile, BIGTIFF = 'Yes')\n",
    "        DTM_up.write(dtm_1, 1)\n",
    "        dsm.close()"
   ]
  },
  {
   "cell_type": "markdown",
   "metadata": {},
   "source": [
    "Task 2: Crop DSMs and upsampled DTMs around the group start location for each observation \n",
    "and\n",
    "Task 3: Create vegetation rasters by subtracting cropped DTMs from DSMs. Save cropped vegetation rasters."
   ]
  },
  {
   "cell_type": "code",
   "execution_count": 9,
   "metadata": {},
   "outputs": [
    {
     "name": "stderr",
     "output_type": "stream",
     "text": [
      "/Users/blaircostelloe/opt/anaconda3/lib/python3.8/site-packages/pyproj/crs/crs.py:53: FutureWarning: '+init=<authority>:<code>' syntax is deprecated. '<authority>:<code>' is the preferred initialization method. When making the change, be mindful of axis order changes: https://pyproj4.github.io/pyproj/stable/gotchas.html#axis-order-changes-in-proj-6\n",
      "  return _prepare_from_string(\" \".join(pjargs))\n"
     ]
    }
   ],
   "source": [
    "# Set desired radius in meters\n",
    "buffer_m = 100\n",
    "vegetation_clip_folder = str(\"/Volumes/Pegasus/Herd_Hover/drone-disturbance/\" +'veg_clips_' + str(buffer_m) + 'm/')\n",
    "\n",
    "# Make each observation start point into a geometry and apply buffer\n",
    "clip_df['map_area'] = [maps.loc[maps['flight'] == i, 'map_area'].values[0] for i in clip_df['flight']]\n",
    "clips = clip_df.dropna(subset = ['clip_start_lon', 'clip_start_lat', 'map_area'])\n",
    "# Convert observation strat points to Point Geometries\n",
    "geometry = [Point(xy) for xy in zip(clips.clip_start_lon, clips.clip_start_lat)]\n",
    "crs = {'init': 'epsg:4326'}\n",
    "geo_df = GeoDataFrame(clips, crs = crs, geometry = geometry)\n",
    "geo_df = geo_df.to_crs('EPSG:32637')\n",
    "# Buffer each clip start point by desired sample radius\n",
    "geo_df['geometry'] = geo_df['geometry'].buffer(buffer_m)\n",
    "\n",
    "# Then read in each set of map rasters in turn, crop to each buffered point geometry and save.\n",
    "for i in map_list:\n",
    "    dsm_file = str(DSM_directory + i + '_dsm.tif')\n",
    "    dtm_file = str(DTMup_folder + i + '_DTM_upsampled.tif')\n",
    "    dtm = rio.open(dtm_file)\n",
    "    dsm = rio.open(dsm_file)\n",
    "    \n",
    "    # subset the geo_df to include only observations that fall within this map area\n",
    "    map_obs = geo_df[geo_df['map_area'] == i]\n",
    "    # convert this to a list of dictionaries with just the flight name and clip type\n",
    "    polys = map_obs[['flight', 'clip_type', 'geometry']].to_dict('records')\n",
    "    \n",
    "    # now loop through the polygon objects in polys and for each one:\n",
    "    # clip the dtm and dsm to that extent\n",
    "    for p in polys:\n",
    "        if not os.path.exists(str(vegetation_clip_folder + p['flight'] + '_' + p['clip_type'] + '_vegheight.tif')):\n",
    "            shapes = []\n",
    "            shapes.append(p['geometry'])\n",
    "            out_dsm, out_dsm_transform = rio.mask.mask(dsm, shapes, crop = True)\n",
    "            out_dsm_meta = dsm.meta\n",
    "            out_dtm, out_dtm_transform = rio.mask.mask(dtm, shapes, crop = True)\n",
    "            out_dtm_meta = dtm.meta\n",
    "            \n",
    "            # subtract the clipped dtm from the clipped dsm\n",
    "            veg = np.where(((out_dsm == -10000.) | (out_dtm == -10000.0)), -10000., (out_dsm-out_dtm))\n",
    "            \n",
    "            # save the clipped raster as a new file\n",
    "            out_dsm_meta.update({'driver': 'GTiff',\n",
    "                                 'height': out_dsm.shape[1],\n",
    "                                 'width': out_dsm.shape[2],\n",
    "                                 'transform': out_dsm_transform})\n",
    "            veg_rast = rio.open(str(vegetation_clip_folder + p['flight'] + '_' + p['clip_type'] + '_vegheight.tif'), 'w', **out_dsm_meta)\n",
    "            veg_rast.write(veg)\n",
    "            veg_rast.close()\n",
    "    dsm.close()\n",
    "    dtm.close()"
   ]
  },
  {
   "cell_type": "markdown",
   "metadata": {},
   "source": [
    "Task 4: Read in each cropped vegetation raster and binarize. Calculate proportion of each circle that is1; store \"bushiness score\" in clip_df and save to env_variables_clip.csv"
   ]
  },
  {
   "cell_type": "code",
   "execution_count": 10,
   "metadata": {},
   "outputs": [],
   "source": [
    "files = glob.glob(vegetation_clip_folder + '*.tif')\n",
    "bush_col = 'bushiness_' + str(buffer_m) + 'm'\n",
    "\n",
    "for i in files:\n",
    "    # get the name of the flight and the clip type\n",
    "    flight, clip = str.split(os.path.splitext(os.path.basename(i))[0], '_')[0:2]\n",
    "    name = str(flight + '_' + clip)\n",
    "    \n",
    "    # open and read the raster\n",
    "    raster = rio.open(i)\n",
    "    veg = raster.read(1)\n",
    "    \n",
    "    # calculate the number of data cells (that aren't the nodata value of -10000)\n",
    "    valid_cells = veg.size - (np.count_nonzero(veg == -10000))\n",
    "    # calculate the proportion of valid cells that are >1.5 m in height\n",
    "    prop_bush = np.count_nonzero(veg >= 1.5)/valid_cells\n",
    "    \n",
    "    clip_df.loc[(clip_df['flight'] == flight) & (clip_df['clip_type'] == clip), bush_col] = prop_bush\n",
    "    raster.close()"
   ]
  },
  {
   "cell_type": "code",
   "execution_count": 11,
   "metadata": {},
   "outputs": [],
   "source": [
    "# Save env_variables_clip.csv\n",
    "cols_to_keep = ['flight', 'clip_type', bush_col]\n",
    "env_df = clip_df.drop(clip_df.columns.difference(cols_to_keep), axis = 1, inplace = False)\n",
    "env_df.to_csv('/Users/blaircostelloe/Dropbox/Publications/DroneDisturbance/drone-disturbance/supplement/processed-data/env_variables_clip.csv', index = False)"
   ]
  },
  {
   "cell_type": "markdown",
   "metadata": {},
   "source": [
    "Task 5: Use NASA SRTM raster to get the difference in ground elevation between the launch location and the group start location for each observation. Save this value in the drone_variables_clip2.csv file.\n",
    "\n",
    "I've downloaded an SRTM raster for the study area from https://earthexplorer.usgs.gov/ at a resolution of 1 arc-second."
   ]
  },
  {
   "cell_type": "code",
   "execution_count": 22,
   "metadata": {},
   "outputs": [
    {
     "name": "stderr",
     "output_type": "stream",
     "text": [
      "/Users/blaircostelloe/opt/anaconda3/lib/python3.8/site-packages/pyproj/crs/crs.py:53: FutureWarning: '+init=<authority>:<code>' syntax is deprecated. '<authority>:<code>' is the preferred initialization method. When making the change, be mindful of axis order changes: https://pyproj4.github.io/pyproj/stable/gotchas.html#axis-order-changes-in-proj-6\n",
      "  return _prepare_from_string(\" \".join(pjargs))\n"
     ]
    },
    {
     "data": {
      "text/html": [
       "<div>\n",
       "<style scoped>\n",
       "    .dataframe tbody tr th:only-of-type {\n",
       "        vertical-align: middle;\n",
       "    }\n",
       "\n",
       "    .dataframe tbody tr th {\n",
       "        vertical-align: top;\n",
       "    }\n",
       "\n",
       "    .dataframe thead th {\n",
       "        text-align: right;\n",
       "    }\n",
       "</style>\n",
       "<table border=\"1\" class=\"dataframe\">\n",
       "  <thead>\n",
       "    <tr style=\"text-align: right;\">\n",
       "      <th></th>\n",
       "      <th>flight</th>\n",
       "      <th>clip_type</th>\n",
       "      <th>clip_start_vid</th>\n",
       "      <th>clip_start_log</th>\n",
       "      <th>launch_lat</th>\n",
       "      <th>launch_lon</th>\n",
       "      <th>launch_alt</th>\n",
       "      <th>clip_start_lat</th>\n",
       "      <th>clip_start_lon</th>\n",
       "      <th>clip_start_ascent</th>\n",
       "      <th>launch-group_bear</th>\n",
       "      <th>map_area</th>\n",
       "      <th>launch_elev_SRTM</th>\n",
       "      <th>group_elev_SRTM</th>\n",
       "      <th>alt_diff</th>\n",
       "    </tr>\n",
       "  </thead>\n",
       "  <tbody>\n",
       "    <tr>\n",
       "      <th>0</th>\n",
       "      <td>001-01</td>\n",
       "      <td>first</td>\n",
       "      <td>254000.0</td>\n",
       "      <td>238100.0</td>\n",
       "      <td>0.071298</td>\n",
       "      <td>36.959719</td>\n",
       "      <td>1800.505307</td>\n",
       "      <td>0.070593</td>\n",
       "      <td>36.962416</td>\n",
       "      <td>87.800003</td>\n",
       "      <td>104.566331</td>\n",
       "      <td>NaN</td>\n",
       "      <td>1800.0</td>\n",
       "      <td>1806.0</td>\n",
       "      <td>-6.0</td>\n",
       "    </tr>\n",
       "    <tr>\n",
       "      <th>1</th>\n",
       "      <td>002-01</td>\n",
       "      <td>first</td>\n",
       "      <td>204000.0</td>\n",
       "      <td>185700.0</td>\n",
       "      <td>0.069261</td>\n",
       "      <td>36.962402</td>\n",
       "      <td>1801.842099</td>\n",
       "      <td>0.066896</td>\n",
       "      <td>36.965209</td>\n",
       "      <td>88.300003</td>\n",
       "      <td>129.928982</td>\n",
       "      <td>NaN</td>\n",
       "      <td>1803.0</td>\n",
       "      <td>1805.0</td>\n",
       "      <td>-2.0</td>\n",
       "    </tr>\n",
       "    <tr>\n",
       "      <th>2</th>\n",
       "      <td>003-01</td>\n",
       "      <td>first</td>\n",
       "      <td>107000.0</td>\n",
       "      <td>96850.0</td>\n",
       "      <td>0.069264</td>\n",
       "      <td>36.962395</td>\n",
       "      <td>1811.045883</td>\n",
       "      <td>0.070615</td>\n",
       "      <td>36.963768</td>\n",
       "      <td>86.500003</td>\n",
       "      <td>45.643022</td>\n",
       "      <td>NaN</td>\n",
       "      <td>1803.0</td>\n",
       "      <td>1805.0</td>\n",
       "      <td>-2.0</td>\n",
       "    </tr>\n",
       "    <tr>\n",
       "      <th>3</th>\n",
       "      <td>004-01</td>\n",
       "      <td>first</td>\n",
       "      <td>0.0</td>\n",
       "      <td>624300.0</td>\n",
       "      <td>0.060709</td>\n",
       "      <td>36.942607</td>\n",
       "      <td>1794.822201</td>\n",
       "      <td>0.058639</td>\n",
       "      <td>36.941506</td>\n",
       "      <td>74.900002</td>\n",
       "      <td>208.147967</td>\n",
       "      <td>NaN</td>\n",
       "      <td>1796.0</td>\n",
       "      <td>1794.0</td>\n",
       "      <td>2.0</td>\n",
       "    </tr>\n",
       "    <tr>\n",
       "      <th>4</th>\n",
       "      <td>005-01</td>\n",
       "      <td>first</td>\n",
       "      <td>164000.0</td>\n",
       "      <td>146600.0</td>\n",
       "      <td>0.062106</td>\n",
       "      <td>36.933623</td>\n",
       "      <td>1788.745541</td>\n",
       "      <td>0.064407</td>\n",
       "      <td>36.929952</td>\n",
       "      <td>80.900003</td>\n",
       "      <td>301.905414</td>\n",
       "      <td>NaN</td>\n",
       "      <td>1787.0</td>\n",
       "      <td>1786.0</td>\n",
       "      <td>1.0</td>\n",
       "    </tr>\n",
       "    <tr>\n",
       "      <th>...</th>\n",
       "      <td>...</td>\n",
       "      <td>...</td>\n",
       "      <td>...</td>\n",
       "      <td>...</td>\n",
       "      <td>...</td>\n",
       "      <td>...</td>\n",
       "      <td>...</td>\n",
       "      <td>...</td>\n",
       "      <td>...</td>\n",
       "      <td>...</td>\n",
       "      <td>...</td>\n",
       "      <td>...</td>\n",
       "      <td>...</td>\n",
       "      <td>...</td>\n",
       "      <td>...</td>\n",
       "    </tr>\n",
       "    <tr>\n",
       "      <th>423</th>\n",
       "      <td>114-02</td>\n",
       "      <td>second</td>\n",
       "      <td>579000.0</td>\n",
       "      <td>575250.0</td>\n",
       "      <td>0.371697</td>\n",
       "      <td>36.913538</td>\n",
       "      <td>1649.514701</td>\n",
       "      <td>0.374397</td>\n",
       "      <td>36.915731</td>\n",
       "      <td>70.400002</td>\n",
       "      <td>39.271856</td>\n",
       "      <td>newclifford1_2_3_merge</td>\n",
       "      <td>1648.0</td>\n",
       "      <td>1642.0</td>\n",
       "      <td>6.0</td>\n",
       "    </tr>\n",
       "    <tr>\n",
       "      <th>424</th>\n",
       "      <td>114-03</td>\n",
       "      <td>second</td>\n",
       "      <td>574000.0</td>\n",
       "      <td>571950.0</td>\n",
       "      <td>0.371722</td>\n",
       "      <td>36.913535</td>\n",
       "      <td>1649.429130</td>\n",
       "      <td>0.374575</td>\n",
       "      <td>36.915852</td>\n",
       "      <td>70.600002</td>\n",
       "      <td>39.265366</td>\n",
       "      <td>newclifford1_2_3_merge</td>\n",
       "      <td>1648.0</td>\n",
       "      <td>1640.0</td>\n",
       "      <td>8.0</td>\n",
       "    </tr>\n",
       "    <tr>\n",
       "      <th>425</th>\n",
       "      <td>115-01</td>\n",
       "      <td>second</td>\n",
       "      <td>641000.0</td>\n",
       "      <td>607000.0</td>\n",
       "      <td>0.354548</td>\n",
       "      <td>36.887997</td>\n",
       "      <td>1771.974300</td>\n",
       "      <td>0.352415</td>\n",
       "      <td>36.897543</td>\n",
       "      <td>105.100003</td>\n",
       "      <td>102.509944</td>\n",
       "      <td>airstrip_ne_merge</td>\n",
       "      <td>1772.0</td>\n",
       "      <td>1771.0</td>\n",
       "      <td>1.0</td>\n",
       "    </tr>\n",
       "    <tr>\n",
       "      <th>426</th>\n",
       "      <td>115-02</td>\n",
       "      <td>second</td>\n",
       "      <td>644000.0</td>\n",
       "      <td>634350.0</td>\n",
       "      <td>0.354550</td>\n",
       "      <td>36.888005</td>\n",
       "      <td>1771.966609</td>\n",
       "      <td>0.352644</td>\n",
       "      <td>36.898739</td>\n",
       "      <td>115.100004</td>\n",
       "      <td>100.001429</td>\n",
       "      <td>airstrip_ne_merge</td>\n",
       "      <td>1772.0</td>\n",
       "      <td>1771.0</td>\n",
       "      <td>1.0</td>\n",
       "    </tr>\n",
       "    <tr>\n",
       "      <th>427</th>\n",
       "      <td>115-03</td>\n",
       "      <td>second</td>\n",
       "      <td>705000.0</td>\n",
       "      <td>684800.0</td>\n",
       "      <td>0.354555</td>\n",
       "      <td>36.888012</td>\n",
       "      <td>1771.960872</td>\n",
       "      <td>0.353044</td>\n",
       "      <td>36.901247</td>\n",
       "      <td>115.000004</td>\n",
       "      <td>96.466967</td>\n",
       "      <td>airstrip_ne_merge</td>\n",
       "      <td>1772.0</td>\n",
       "      <td>1770.0</td>\n",
       "      <td>2.0</td>\n",
       "    </tr>\n",
       "  </tbody>\n",
       "</table>\n",
       "<p>428 rows × 15 columns</p>\n",
       "</div>"
      ],
      "text/plain": [
       "     flight clip_type  clip_start_vid  clip_start_log  launch_lat  launch_lon  \\\n",
       "0    001-01     first        254000.0        238100.0    0.071298   36.959719   \n",
       "1    002-01     first        204000.0        185700.0    0.069261   36.962402   \n",
       "2    003-01     first        107000.0         96850.0    0.069264   36.962395   \n",
       "3    004-01     first             0.0        624300.0    0.060709   36.942607   \n",
       "4    005-01     first        164000.0        146600.0    0.062106   36.933623   \n",
       "..      ...       ...             ...             ...         ...         ...   \n",
       "423  114-02    second        579000.0        575250.0    0.371697   36.913538   \n",
       "424  114-03    second        574000.0        571950.0    0.371722   36.913535   \n",
       "425  115-01    second        641000.0        607000.0    0.354548   36.887997   \n",
       "426  115-02    second        644000.0        634350.0    0.354550   36.888005   \n",
       "427  115-03    second        705000.0        684800.0    0.354555   36.888012   \n",
       "\n",
       "      launch_alt  clip_start_lat  clip_start_lon  clip_start_ascent  \\\n",
       "0    1800.505307        0.070593       36.962416          87.800003   \n",
       "1    1801.842099        0.066896       36.965209          88.300003   \n",
       "2    1811.045883        0.070615       36.963768          86.500003   \n",
       "3    1794.822201        0.058639       36.941506          74.900002   \n",
       "4    1788.745541        0.064407       36.929952          80.900003   \n",
       "..           ...             ...             ...                ...   \n",
       "423  1649.514701        0.374397       36.915731          70.400002   \n",
       "424  1649.429130        0.374575       36.915852          70.600002   \n",
       "425  1771.974300        0.352415       36.897543         105.100003   \n",
       "426  1771.966609        0.352644       36.898739         115.100004   \n",
       "427  1771.960872        0.353044       36.901247         115.000004   \n",
       "\n",
       "     launch-group_bear                map_area  launch_elev_SRTM  \\\n",
       "0           104.566331                     NaN            1800.0   \n",
       "1           129.928982                     NaN            1803.0   \n",
       "2            45.643022                     NaN            1803.0   \n",
       "3           208.147967                     NaN            1796.0   \n",
       "4           301.905414                     NaN            1787.0   \n",
       "..                 ...                     ...               ...   \n",
       "423          39.271856  newclifford1_2_3_merge            1648.0   \n",
       "424          39.265366  newclifford1_2_3_merge            1648.0   \n",
       "425         102.509944       airstrip_ne_merge            1772.0   \n",
       "426         100.001429       airstrip_ne_merge            1772.0   \n",
       "427          96.466967       airstrip_ne_merge            1772.0   \n",
       "\n",
       "     group_elev_SRTM  alt_diff  \n",
       "0             1806.0      -6.0  \n",
       "1             1805.0      -2.0  \n",
       "2             1805.0      -2.0  \n",
       "3             1794.0       2.0  \n",
       "4             1786.0       1.0  \n",
       "..               ...       ...  \n",
       "423           1642.0       6.0  \n",
       "424           1640.0       8.0  \n",
       "425           1771.0       1.0  \n",
       "426           1771.0       1.0  \n",
       "427           1770.0       2.0  \n",
       "\n",
       "[428 rows x 15 columns]"
      ]
     },
     "execution_count": 22,
     "metadata": {},
     "output_type": "execute_result"
    }
   ],
   "source": [
    "from rasterio.crs import CRS\n",
    "from rasterio.warp import calculate_default_transform, reproject, Resampling\n",
    "\n",
    "# First import the downloaded SRTM raster and convert to appropriate projection\n",
    "dst_crs = CRS.from_string('EPSG:32637')\n",
    "SRTM_raster = str('SRTM/n00_e036_1arc_v3.tif')\n",
    "\n",
    "with rio.open(SRTM_raster) as src:\n",
    "    transform, width, height = calculate_default_transform(src.crs, dst_crs, src.width, src.height, *src.bounds)\n",
    "    kwargs = src.meta.copy()\n",
    "    kwargs.update({\n",
    "        'crs': dst_crs,\n",
    "        'transform': transform,\n",
    "        'width': width,\n",
    "        'height': height\n",
    "    })\n",
    "    \n",
    "    with rio.open('SRTM/SRTM_epsg32637.tif', 'w', **kwargs) as dst:\n",
    "        for i in range(1, src.count +1):\n",
    "            reproject(\n",
    "            source = rio.band(src, i),\n",
    "            destination = rio.band(dst, i),\n",
    "            src_transform = src.transform,\n",
    "            src_crs = src.crs,\n",
    "            dst_transform = transform,\n",
    "            dst_crs = dst_crs,\n",
    "            resampling = Resampling.nearest)\n",
    "            \n",
    "# extract elevations for launch and group locations\n",
    "clip_df['launch_elev_SRTM'] = np.nan\n",
    "clip_df['group_elev_SRTM'] = np.nan\n",
    "\n",
    "clips = clip_df.dropna(subset = ['clip_start_lon', 'clip_start_lat', 'launch_lon', 'launch_lat'])\n",
    "\n",
    "# convert launch coordinates into same CRS as raster file\n",
    "launch_locs = [Point(xy) for xy in zip(clips.launch_lon, clips.launch_lat)]\n",
    "crs = {'init': 'epsg:4326'}\n",
    "launch_df = GeoDataFrame(clips, crs = crs, geometry = launch_locs)\n",
    "launch_geo = launch_df.to_crs({'init': 'epsg:32637'})\n",
    "\n",
    "# extract converted x and y coordinates for launch point\n",
    "launch_geo['lon'] = launch_geo.geometry.x\n",
    "launch_geo['lat'] = launch_geo.geometry.y\n",
    "\n",
    "# Repeat for clip_start/group locations\n",
    "group_locs = [Point(xy) for xy in zip(clips.clip_start_lon, clips.clip_start_lat)]\n",
    "crs = {'init': 'epsg:4326'}\n",
    "group_df = GeoDataFrame(clips, crs = crs, geometry = group_locs)\n",
    "group_geo = group_df.to_crs({'init': 'epsg:32637'})\n",
    "\n",
    "group_geo['lon'] = group_geo.geometry.x\n",
    "group_geo['lat'] = group_geo.geometry.y\n",
    "\n",
    "# open SRTM file\n",
    "SRTM_raster = str('SRTM/SRTM_epsg32637.tif')\n",
    "SRTM = rio.open(SRTM_raster)\n",
    "\n",
    "# get elevation for each launch point and store in df\n",
    "launch_coords = [(x,y) for x, y in zip(launch_geo.lon, launch_geo.lat)]\n",
    "launch_geo['launch_elev_SRTM'] = [x[0] for x in SRTM.sample(launch_coords)]\n",
    "clip_df['launch_elev_SRTM'] = [launch_geo.loc[i]['launch_elev_SRTM'] if i in launch_geo.index else clip_df.loc[i]['launch_elev_SRTM'] for i in clip_df.index]\n",
    "\n",
    "# get elevation for each clip start point and store in df\n",
    "group_coords = [(x,y) for x, y in zip(group_geo.lon, group_geo.lat)]\n",
    "group_geo['group_elev_SRTM'] = [x[0] for x in SRTM.sample(group_coords)]\n",
    "clip_df['group_elev_SRTM'] = [group_geo.loc[i]['group_elev_SRTM'] if i in group_geo.index else clip_df.loc[i]['group_elev_SRTM'] for i in clip_df.index]\n",
    "\n",
    "# calculate difference between launch site and group location elevations\n",
    "clip_df['alt_diff'] = clip_df['launch_elev_SRTM'] - clip_df['group_elev_SRTM']\n",
    "\n",
    "clip_df   "
   ]
  },
  {
   "cell_type": "code",
   "execution_count": 23,
   "metadata": {},
   "outputs": [],
   "source": [
    "# Adjust the clip_start_ascent value to account for changes in ground-level elevation\n",
    "clip_df['clip_start_ascent_adj'] = clip_df['clip_start_ascent'] + clip_df['alt_diff']"
   ]
  },
  {
   "cell_type": "code",
   "execution_count": 24,
   "metadata": {},
   "outputs": [
    {
     "name": "stderr",
     "output_type": "stream",
     "text": [
      "/Users/blaircostelloe/opt/anaconda3/lib/python3.8/site-packages/seaborn/_decorators.py:36: FutureWarning: Pass the following variables as keyword args: x, y. From version 0.12, the only valid positional argument will be `data`, and passing other arguments without an explicit keyword will result in an error or misinterpretation.\n",
      "  warnings.warn(\n"
     ]
    },
    {
     "data": {
      "image/png": "[encoded data removed]",
      "text/plain": [
       "<Figure size 360x360 with 1 Axes>"
      ]
     },
     "metadata": {
      "needs_background": "light"
     },
     "output_type": "display_data"
    }
   ],
   "source": [
    "# How do DJI and SRTM launch site elevations compare?\n",
    "\n",
    "plot = sns.relplot('launch_alt', 'launch_elev_SRTM', data = clip_df, kind = 'scatter', alpha = 0.7)\n",
    "plt.xlabel('Elevation (m) – Phantom drone')\n",
    "plt.ylabel('Elevation (m) – SRTM data')\n",
    "plt.title('Launch site elevations:\\nDJI Phantom drones vs NASA SRTM data')\n",
    "plt.tight_layout()\n",
    "elev_comparison = plot.fig\n",
    "#elev_comparison.savefig('figures/FigA8.png')"
   ]
  },
  {
   "cell_type": "code",
   "execution_count": 25,
   "metadata": {},
   "outputs": [
    {
     "name": "stderr",
     "output_type": "stream",
     "text": [
      "/Users/blaircostelloe/opt/anaconda3/lib/python3.8/site-packages/seaborn/distributions.py:2557: FutureWarning: `distplot` is a deprecated function and will be removed in a future version. Please adapt your code to use either `displot` (a figure-level function with similar flexibility) or `histplot` (an axes-level function for histograms).\n",
      "  warnings.warn(msg, FutureWarning)\n"
     ]
    },
    {
     "data": {
      "text/plain": [
       "<AxesSubplot:xlabel='alt_diff', ylabel='Density'>"
      ]
     },
     "execution_count": 25,
     "metadata": {},
     "output_type": "execute_result"
    },
    {
     "data": {
      "image/png": "[encoded data removed]",
      "text/plain": [
       "<Figure size 432x288 with 1 Axes>"
      ]
     },
     "metadata": {
      "needs_background": "light"
     },
     "output_type": "display_data"
    }
   ],
   "source": [
    "# What is the distribution of altitude differences between launch and group locations?\n",
    "sns.distplot(clip_df['alt_diff'])"
   ]
  },
  {
   "cell_type": "code",
   "execution_count": 26,
   "metadata": {},
   "outputs": [
    {
     "name": "stderr",
     "output_type": "stream",
     "text": [
      "/Users/blaircostelloe/opt/anaconda3/lib/python3.8/site-packages/seaborn/_decorators.py:36: FutureWarning: Pass the following variables as keyword args: x, y. From version 0.12, the only valid positional argument will be `data`, and passing other arguments without an explicit keyword will result in an error or misinterpretation.\n",
      "  warnings.warn(\n"
     ]
    },
    {
     "data": {
      "text/plain": [
       "<seaborn.axisgrid.FacetGrid at 0x7fb6d17d7610>"
      ]
     },
     "execution_count": 26,
     "metadata": {},
     "output_type": "execute_result"
    },
    {
     "data": {
      "image/png": "[encoded data removed]",
      "text/plain": [
       "<Figure size 360x360 with 1 Axes>"
      ]
     },
     "metadata": {
      "needs_background": "light"
     },
     "output_type": "display_data"
    }
   ],
   "source": [
    "# How good an estimate of actual altitude over the group is the drone's ascent measurement?\n",
    "sns.relplot('clip_start_ascent', 'clip_start_ascent_adj', data = clip_df, kind = 'scatter')"
   ]
  },
  {
   "cell_type": "code",
   "execution_count": 27,
   "metadata": {},
   "outputs": [],
   "source": [
    "# Save drone_variables_clip2.csv\n",
    "cols_to_keep = ['flight', 'clip_type', 'clip_start_vid', 'clip_start_log', 'launch_lat',\n",
    "       'launch_lon', 'clip_start_lat', 'clip_start_lon',\n",
    "       'launch-group_bear', 'clip_start_ascent_adj']\n",
    "\n",
    "clip_df.drop(clip_df.columns.difference(cols_to_keep), axis = 1, inplace = True)\n",
    "clip_df.to_csv('/Users/blaircostelloe/Dropbox/Publications/DroneDisturbance/drone-disturbance/supplement/processed-data/drone_variables_clip2.csv', index = False)"
   ]
  },
  {
   "cell_type": "code",
   "execution_count": null,
   "metadata": {},
   "outputs": [],
   "source": []
  }
 ],
 "metadata": {
  "kernelspec": {
   "display_name": "Python 3",
   "language": "python",
   "name": "python3"
  },
  "language_info": {
   "codemirror_mode": {
    "name": "ipython",
    "version": 3
   },
   "file_extension": ".py",
   "mimetype": "text/x-python",
   "name": "python",
   "nbconvert_exporter": "python",
   "pygments_lexer": "ipython3",
   "version": "3.8.5"
  }
 },
 "nbformat": 4,
 "nbformat_minor": 4
}
