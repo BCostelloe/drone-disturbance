{
 "cells": [
  {
   "cell_type": "markdown",
   "metadata": {},
   "source": [
    "This code uses digital terrain models (DTMs) and digital surface models (DSMs) to calculate the bushiness (% bush) of the habitat within a 100m radius of the group's location at the start of each flight. The DTMs and DSMs were created using DJI and eBee drones to photograph the landscape in a grid around the observation area. These photos were then processed using the photogrammetry software Pix4D.\n",
    "\n",
    "The size of the DTM and DSM files prevents them from being included in this repository. Code relying on these files below has been commented out.\n",
    "\n",
    "The code also uses elevation data from NASA's SRTM dataset to calculate the difference in elevation between the launch point and the group's location, and adjust's the drone's \"ascent\" measurement to reflect this.\n",
    "\n",
    "Tasks:\n",
    "1. Upsample DTMs to match the resolution of the DSMs\n",
    "2. Crop DSMs and upsampled DTMs around the group start location for each observation.\n",
    "3. Create vegetation rasters by subtracting cropped DTMs from DSMs. Save cropped vegetation rasters.\n",
    "4. Read in each cropped vegetation raster and calculate proportion of each circle taht is 1; save this \"bushiness score\" in the env_variables_clip.csv file\n",
    "5. Use SRTM raster to get the difference in group elevation between the launch location and the group start location for each observation. Save this value in the drone_variables_clip2.csv file\n",
    "6. Generate plots demonstrating the validity of using SRTM data to account for ground elevation differences."
   ]
  },
  {
   "cell_type": "code",
   "execution_count": 16,
   "metadata": {},
   "outputs": [
    {
     "ename": "ModuleNotFoundError",
     "evalue": "No module named 'rasterio'",
     "output_type": "error",
     "traceback": [
      "\u001b[0;31m---------------------------------------------------------------------------\u001b[0m",
      "\u001b[0;31mModuleNotFoundError\u001b[0m                       Traceback (most recent call last)",
      "\u001b[0;32m<ipython-input-16-4878ca82b959>\u001b[0m in \u001b[0;36m<module>\u001b[0;34m\u001b[0m\n\u001b[1;32m      3\u001b[0m \u001b[0;32mimport\u001b[0m \u001b[0mpandas\u001b[0m \u001b[0;32mas\u001b[0m \u001b[0mpd\u001b[0m\u001b[0;34m\u001b[0m\u001b[0;34m\u001b[0m\u001b[0m\n\u001b[1;32m      4\u001b[0m \u001b[0;32mimport\u001b[0m \u001b[0mnumpy\u001b[0m \u001b[0;32mas\u001b[0m \u001b[0mnp\u001b[0m\u001b[0;34m\u001b[0m\u001b[0;34m\u001b[0m\u001b[0m\n\u001b[0;32m----> 5\u001b[0;31m \u001b[0;32mimport\u001b[0m \u001b[0mrasterio\u001b[0m \u001b[0;32mas\u001b[0m \u001b[0mrio\u001b[0m\u001b[0;34m\u001b[0m\u001b[0;34m\u001b[0m\u001b[0m\n\u001b[0m\u001b[1;32m      6\u001b[0m \u001b[0;32mimport\u001b[0m \u001b[0mrasterio\u001b[0m\u001b[0;34m.\u001b[0m\u001b[0menums\u001b[0m \u001b[0;32mas\u001b[0m \u001b[0mResampling\u001b[0m\u001b[0;34m\u001b[0m\u001b[0;34m\u001b[0m\u001b[0m\n\u001b[1;32m      7\u001b[0m \u001b[0;34m\u001b[0m\u001b[0m\n",
      "\u001b[0;31mModuleNotFoundError\u001b[0m: No module named 'rasterio'"
     ]
    }
   ],
   "source": [
    "# Load required packages\n",
    "import os\n",
    "import pandas as pd\n",
    "import numpy as np\n",
    "import rasterio as rio\n",
    "import rasterio.enums as Resampling\n",
    "\n",
    "# get working directory\n",
    "os.getcwd()"
   ]
  },
  {
   "cell_type": "code",
   "execution_count": 8,
   "metadata": {},
   "outputs": [],
   "source": [
    "# Import necessary data\n",
    "maps = pd.read_csv('/Users/blaircostelloe/Dropbox/Publications/DroneDisturbance/drone-disturbance/supplement/clean-data/metadata.csv')\n",
    "maps = maps.replace('NAN', np.nan)\n",
    "clip_df = pd.read_csv('/Users/blaircostelloe/Dropbox/Publications/DroneDisturbance/drone-disturbance/supplement/processed-data/drone_variables_clip.csv')"
   ]
  },
  {
   "cell_type": "code",
   "execution_count": 13,
   "metadata": {},
   "outputs": [],
   "source": [
    "# Define variables\n",
    "map_list = maps['map_area'].dropna().unique()\n",
    "\n",
    "# Define directories\n",
    "DSM_directory = '/Volumes/Pegasus/Herd_Hover/drone-disturbance/DSMs'\n",
    "DTM_directory = '/Volumes/Pegasus/Herd_Hover/drone-disturbance/DTMs'\n",
    "DTMup_folder = '/Volumes/Pegasus/Herd_Hover/drone-disturbance/DTMs_upsampled'"
   ]
  },
  {
   "cell_type": "code",
   "execution_count": 14,
   "metadata": {},
   "outputs": [],
   "source": [
    "# add map area to clip_df\n",
    "clip_df['map_area'] = [maps.loc[maps['flight'] == i, 'map_area'].values[0] for i in clip_df['flight']]"
   ]
  },
  {
   "cell_type": "markdown",
   "metadata": {},
   "source": [
    "Task 1: Upsample DTMs to match the resolution of the DSMs"
   ]
  },
  {
   "cell_type": "code",
   "execution_count": null,
   "metadata": {},
   "outputs": [],
   "source": [
    "if not os.path.exists(DTMup_folder):\n",
    "    os.makedirs(DTMup_folder)\n",
    "    \n",
    "for i in map_list:\n",
    "    # check if this map area has already been upsampled\n",
    "    if not os.path.exists(str(DTMup_folder + i +'_DTM_upsampled.tif')):\n",
    "        # get the relevant DSM and DTM\n",
    "        dsm_file = str(DSM_directory + i + '_dsm.tif')\n",
    "        dtm_file = str(DTM_directory + i + '_dtm.tif')\n",
    "        dtm = rio.open(dtm_file)\n",
    "        dsm = rio.open(dsm_file)\n",
    "        # resample DTM to match dimensions of DSM\n",
    "        dtm_1 = dtm.read(1, out_shape = (dsm.height, dsm.width), resampling = Resampling.bilinear)\n",
    "        # save upsampled DTM\n",
    "        DTM_up = rio.open(str(DTMup_folder + i + '_DTM_upsampled.tif'),'w', **dsm.profile, BIGTIFF = 'Yes')\n",
    "        DTM_up.write(dtm_1, 1)\n",
    "        dsm.close()"
   ]
  },
  {
   "cell_type": "markdown",
   "metadata": {},
   "source": [
    "Task 2: Crop DSMs and upsampled DTMs around the group start location for each observation \n",
    "and\n",
    "Task 3: Create vegetation rasters by subtracting cropped DTMs from DSMs. Save cropped vegetation rasters."
   ]
  },
  {
   "cell_type": "code",
   "execution_count": null,
   "metadata": {},
   "outputs": [],
   "source": [
    "# Set desired radius in meters\n",
    "buffer_m = 100\n",
    "vegetation_clip_folder = str('veg_clips_' + buffer_m + 'm/')\n",
    "\n",
    "# Make each observation start point into a geometry and apply buffer\n",
    "clip_df['map_area'] = [maps.loc[maps['flight'] == i, 'map_area'].values[0] for i in clip_df['flight']]\n",
    "clips = clip_df.dropna(subset = ['clip_start_lon', 'clip_start_lat', 'map_area'])\n",
    "# Convert observation strat points to Point Geometries\n",
    "geometry = [Point(xy) for xy in zip(clips.clip_start_lon, clips.clip_start_lat)]\n",
    "crs = {'init': 'epsg:4325'}\n"
   ]
  }
 ],
 "metadata": {
  "kernelspec": {
   "display_name": "Python 3",
   "language": "python",
   "name": "python3"
  },
  "language_info": {
   "codemirror_mode": {
    "name": "ipython",
    "version": 3
   },
   "file_extension": ".py",
   "mimetype": "text/x-python",
   "name": "python",
   "nbconvert_exporter": "python",
   "pygments_lexer": "ipython3",
   "version": "3.8.5"
  }
 },
 "nbformat": 4,
 "nbformat_minor": 4
}
