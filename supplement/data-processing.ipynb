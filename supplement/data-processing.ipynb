{
 "cells": [
  {
   "cell_type": "code",
   "execution_count": null,
   "metadata": {},
   "outputs": [],
   "source": [
    "# This notebook contains the code required to process the files in the raw-data folder into the dataframes used \n",
    "# in the analyses in the paper."
   ]
  },
  {
   "cell_type": "code",
   "execution_count": null,
   "metadata": {},
   "outputs": [],
   "source": [
    "# load packages\n",
    "import os\n",
    "import pandas as pd\n",
    "import numpy as np\n",
    "import glob\n",
    "from data_processing_functions import convert_keypoints, extract_keypoints, compare_keypoints, get_offset"
   ]
  },
  {
   "cell_type": "code",
   "execution_count": null,
   "metadata": {},
   "outputs": [],
   "source": [
    "# working directory\n",
    "os.getcwd()"
   ]
  },
  {
   "cell_type": "code",
   "execution_count": null,
   "metadata": {},
   "outputs": [],
   "source": [
    "# 1. ALIGN DRONE LOGS WITH VIDEO KEYPOINTS\n",
    "# Here we use keypoints that occur within observation flights to align the drone logs and the video footage. The\n",
    "# keypoints have been manually identified in the flight footage and the timestamps of the keypoints are stored in\n",
    "# video_keypoints.csv.\n",
    "\n",
    "# This code first converts the video_keypoint timestamps from mm:ss to milliseconds.\n",
    "# Then it identifies the corresponding keypoints within the drone logs.\n",
    "# Then it generates a graphical means of inspecting the correlation of the time gaps between each pair of video\n",
    "# keypoints and the corresponding log keypoints. Points falling far from a 1:1 line are indicative of an \n",
    "# erroneously identified video keypoint or a corrupted drone log.\n",
    "# Next it calculates the offset between the timestamps of the keypoints from the video and the timestamps in the \n",
    "# drone logs. This offset value is used to identify data ranges within the drone logs that correspond to time\n",
    "# periods within the flight videos.\n",
    "\n",
    "# It then saves a .csv faile with the video and log keypoints in .csv, the offset value, and the data regarding\n",
    "# the selection and quality of the offset value for each flight."
   ]
  }
 ],
 "metadata": {
  "kernelspec": {
   "display_name": "Python 3",
   "language": "python",
   "name": "python3"
  },
  "language_info": {
   "codemirror_mode": {
    "name": "ipython",
    "version": 3
   },
   "file_extension": ".py",
   "mimetype": "text/x-python",
   "name": "python",
   "nbconvert_exporter": "python",
   "pygments_lexer": "ipython3",
   "version": "3.8.5"
  }
 },
 "nbformat": 4,
 "nbformat_minor": 4
}
