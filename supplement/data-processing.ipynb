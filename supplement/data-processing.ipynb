{
 "cells": [
  {
   "cell_type": "markdown",
   "metadata": {},
   "source": [
    "# This notebook contains the code required to process the files in the raw-data folder into the dataframes used in the analyses in the paper."
   ]
  },
  {
   "cell_type": "code",
   "execution_count": null,
   "metadata": {},
   "outputs": [],
   "source": [
    "# load packages\n",
    "import os\n",
    "import pandas as pd\n",
    "import numpy as np\n",
    "import glob\n",
    "import seaborn as sns\n",
    "import matplotlib.pyplot as plt\n",
    "from data_processing_functions import convert_keypoints, extract_keypoints, compare_keypoints, get_offset"
   ]
  },
  {
   "cell_type": "code",
   "execution_count": null,
   "metadata": {},
   "outputs": [],
   "source": [
    "# working directory\n",
    "os.getcwd()"
   ]
  },
  {
   "cell_type": "markdown",
   "metadata": {},
   "source": [
    "## 1. Align drone logs with video keypoints\n",
    "Here we use keypoints that occur within observation flights to align the drone logs and the video footage. The keypoints have been manually identified in the flight footage and the timestamps of the keypoints are stored in video_keypoints.csv.\n",
    "This code first converts the video_keypoint timestamps from mm:ss to milliseconds. \n",
    "Then it identifies the corresponding keypoints within the drone logs.\n",
    "Then it generates a graphical means of inspecting the correlation of the time gaps between each pair of video keypoints and the corresponding log keypoints. Points falling far from a 1:1 line are indicative of an erroneously identified video keypoint or a corrupted drone log. We generate a figure to illustrate this process.\n",
    "Next it calculates the offset between the timestamps of the keypoints from the video and the timestamps in the drone logs. This offset value is used to identify data ranges within the drone logs that correspond to time periods within the flight videos.\n",
    "\n",
    "It then saves a .csv file with the video and log keypoints in .csv, the offset value, and the data regarding\n",
    "the selection and quality of the offset value for each flight."
   ]
  },
  {
   "cell_type": "code",
   "execution_count": null,
   "metadata": {},
   "outputs": [],
   "source": [
    "# Define relevant directories\n",
    "# location where clean drone logs are stored\n",
    "log_directory = 'clean-data/drone-logs/'\n",
    "\n",
    "# where to store generated files\n",
    "processed_data = 'processed-data/'\n",
    "\n",
    "# Import and clean up necessary data files\n",
    "vid_kp = pd.read_csv('clean-data/video_keypoints.csv')\n",
    "vid_kp = vid_kp.replace('TRUE', True)\n",
    "vid_kp = vid_kp.replace('FALSE', False)\n",
    "vid_kp = vid_kp.replace('NAN', np.nan)"
   ]
  },
  {
   "cell_type": "code",
   "execution_count": null,
   "metadata": {},
   "outputs": [],
   "source": [
    "# Convert video keypoint timestamps to milliseconds\n",
    "vid_kp_ms = convert_keypoints(vid_kp)"
   ]
  },
  {
   "cell_type": "code",
   "execution_count": null,
   "metadata": {},
   "outputs": [],
   "source": [
    "# Identify keypoints in drone logs and extract time value in milliseconds\n",
    "all_kp_ms = extract_keypoints(log_directory, vid_kp_ms)"
   ]
  },
  {
   "cell_type": "markdown",
   "metadata": {},
   "source": [
    "### Visual inspection of correlation of time gaps between keypoints\n",
    "\n",
    "In order to clean my data and verify that I had correctly identified the four keypoint when watching the videos,\n",
    "I compared the time intervals between each keypoint between the log and video data. If, e.g. the interval between the launch and gimbal_down keypoints was roughly equivalent (within ~2 seconds) between the log and video sources, this indicates that I had correctly identified the keypoints and simply needed to calculate an \"offset constant\" in order to align the drone log and video timestamps. In some cases, I had misidentified or mistyped the timestamp for a key point. In such cases, most intervals agreed between the video and logs, but intervals starting or ending with an erroneous keypoint would be off by tens of seconds. I inspected each flight and reviewed videos as necessary to correct misidentified or mistyped keypoints.\n",
    "\n",
    "**Step 1:** Create a new dataframe containing the intervals between each keypoint from both the video and the drone log."
   ]
  },
  {
   "cell_type": "code",
   "execution_count": null,
   "metadata": {},
   "outputs": [],
   "source": [
    "# get list of flights\n",
    "flight_list = all_kp_ms['flight'].unique()\n",
    "# calculate intervals between video keypoints and store in a dataframe\n",
    "keypoint_diffs = pd.DataFrame(np.nan, index = range(0, len(flight_list)), \n",
    "                              columns = ['flight', 'source', 'launch-gimbal', 'launch-home', 'launch-land', \n",
    "                               'gimbal-home', 'gimbal-land', 'home-land'])\n",
    "keypoint_diffs['flight'] = flight_list\n",
    "keypoint_diffs['source'] = 'video'\n",
    "for i in flight_list:\n",
    "    data = all_kp_ms[all_kp_ms['flight'] == i].iloc[0]\n",
    "    keypoint_diffs.loc[keypoint_diffs['flight'] == i, 'launch-gimbal'] = data['gimbaldown_vid'] - data['launchtime_vid']\n",
    "    keypoint_diffs.loc[keypoint_diffs['flight'] == i, 'launch-home'] = data['gohome_vid'] - data['launchtime_vid']\n",
    "    keypoint_diffs.loc[keypoint_diffs['flight'] == i, 'launch-land'] = data['landed_vid'] - data['launchtime_vid']\n",
    "    keypoint_diffs.loc[keypoint_diffs['flight'] == i, 'gimbal-home'] = data['gohome_vid'] - data['gimbaldown_vid']\n",
    "    keypoint_diffs.loc[keypoint_diffs['flight'] == i, 'gimbal-land'] = data['landed_vid'] - data['gimbaldown_vid']\n",
    "    keypoint_diffs.loc[keypoint_diffs['flight'] == i, 'home-land'] = data['landed_vid'] - data['gohome_vid']\n",
    "\n",
    "keypoint_diffs2 = pd.DataFrame(np.nan, index = range(0, len(flight_list)), \n",
    "                              columns = ['flight', 'source', 'launch-gimbal', 'launch-home', 'launch-land', \n",
    "                                         'gimbal-home', 'gimbal-land', 'home-land'])\n",
    "# calculate intervals between drone log keypoints and store them in a dataframe\n",
    "keypoint_diffs2['flight'] = flight_list\n",
    "keypoint_diffs2['source'] = 'log'\n",
    "for i in flight_list:\n",
    "    data = all_kp_ms[all_kp_ms['flight'] == i].iloc[0]\n",
    "    keypoint_diffs2.loc[keypoint_diffs2['flight'] == i, 'launch-gimbal'] = data['gimbaldown_log'] - data['launchtime_log']\n",
    "    keypoint_diffs2.loc[keypoint_diffs2['flight'] == i, 'launch-home'] = data['gohome_log'] - data['launchtime_log']\n",
    "    keypoint_diffs2.loc[keypoint_diffs2['flight'] == i, 'launch-land'] = data['landed_log'] - data['launchtime_log']\n",
    "    keypoint_diffs2.loc[keypoint_diffs2['flight'] == i, 'gimbal-home'] = data['gohome_log'] - data['gimbaldown_log']\n",
    "    keypoint_diffs2.loc[keypoint_diffs2['flight'] == i, 'gimbal-land'] = data['landed_log'] - data['gimbaldown_log']\n",
    "    keypoint_diffs2.loc[keypoint_diffs2['flight'] == i, 'home-land'] = data['landed_log'] - data['gohome_log'] \n",
    "\n",
    "# append the two dataframes & reshape\n",
    "keypoint_differences = keypoint_diffs.append(keypoint_diffs2, ignore_index=True)\n",
    "test_data = pd.melt(keypoint_differences, id_vars=['flight', 'source'],\n",
    "                    var_name=\"keypoints\", value_name=\"difference(milliseconds)\")\n",
    "plot_data = pd.pivot_table(test_data, values = 'difference(milliseconds)', index=['flight', 'keypoints'], \n",
    "                          columns = 'source')"
   ]
  },
  {
   "cell_type": "markdown",
   "metadata": {},
   "source": [
    "**Step 2:** Visual comparison of keypoint gaps for each flight\n",
    "\n",
    "Blue dots should fall approximately along the red line. Dots falling far away from the line, and large values in the keypoints table suggest that a keypoint has been misidentified in the video footage or the drone log is corrupted"
   ]
  },
  {
   "cell_type": "code",
   "execution_count": null,
   "metadata": {},
   "outputs": [],
   "source": [
    "compare_keypoints('025-02', plot_data)"
   ]
  },
  {
   "cell_type": "code",
   "execution_count": null,
   "metadata": {},
   "outputs": [],
   "source": [
    "# Generate figure for supplement explaining this visual method of drone log alignment\n",
    "\n",
    "# create a misalignment\n",
    "test_data.at[25, 'difference(milliseconds)'] = 46800\n",
    "test_data.at[1375, 'difference(milliseconds)'] = 1093000\n",
    "test_data.at[1825, 'difference(milliseconds)'] = 1218000\n",
    "\n",
    "# create dataframe for plot\n",
    "plot_data = pd.pivot_table(test_data, values = 'difference(milliseconds)', index=['flight', 'keypoints'], \n",
    "                          columns = 'source')\n",
    "\n",
    "# create and save figure\n",
    "sns.set_context('talk')\n",
    "flight = '025-02'\n",
    "df = plot_data.loc[flight]\n",
    "df = df.reset_index()\n",
    "plt.figure(figsize = (12,12))\n",
    "fig = sns.lineplot([0,1300000], [0,1300000], color = 'red', alpha = 0.6)\n",
    "fig = sns.scatterplot(df['log'], df['video'])\n",
    "sns.despine()\n",
    "plt.yticks(fig.get_yticks(), fig.get_yticks() /1000)\n",
    "plt.xticks(fig.get_xticks(), fig.get_xticks() /1000)\n",
    "plt.xlabel('Interval from flight log')\n",
    "plt.ylabel('Interval from video footage')\n",
    "plt.xlim(0,1300000)\n",
    "plt.ylim(0,1300000)\n",
    "for line in range(0, len(df)):\n",
    "    fig.text(df.log[line] +30000, df.video[line]-12000, df.keypoints[line], horizontalalignment='left', size = 'medium', color = 'black', weight = 'normal')\n",
    "plt.tight_layout()\n",
    "    \n",
    "print(abs(plot_data.loc[flight]['log'] - plot_data.loc[flight]['video'])/1000)\n",
    "newfig = fig.get_figure()\n",
    "#newfig.savefig('figures/alignment_error.png')"
   ]
  },
  {
   "cell_type": "code",
   "execution_count": null,
   "metadata": {},
   "outputs": [],
   "source": [
    "# Calculate offset constant for each flight and save alignment data for further analyses\n",
    "\n",
    "# Now that all keypoints are clean, choose the most parsimonious offset to align drone log and video timestamps \n",
    "# for each flight. This value can be used to align times by SUBTRACTING it from the video time or ADDING it to \n",
    "# the log time.\n",
    "\n",
    "alignment_df = get_offset(all_kp_ms)\n",
    "if not os.path.exists(processed_data):\n",
    "    os.makedirs(processed_data)\n",
    "alignment_df.to_csv(processed_data + 'video_log_alignment.csv', index = False)"
   ]
  },
  {
   "cell_type": "code",
   "execution_count": null,
   "metadata": {},
   "outputs": [],
   "source": []
  }
 ],
 "metadata": {
  "kernelspec": {
   "display_name": "Python 3",
   "language": "python",
   "name": "python3"
  },
  "language_info": {
   "codemirror_mode": {
    "name": "ipython",
    "version": 3
   },
   "file_extension": ".py",
   "mimetype": "text/x-python",
   "name": "python",
   "nbconvert_exporter": "python",
   "pygments_lexer": "ipython3",
   "version": "3.8.5"
  }
 },
 "nbformat": 4,
 "nbformat_minor": 4
}
