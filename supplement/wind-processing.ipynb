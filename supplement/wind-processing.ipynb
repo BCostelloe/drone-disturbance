{
 "cells": [
  {
   "cell_type": "markdown",
   "id": "injured-cotton",
   "metadata": {},
   "source": [
    "This code extracts data from the wind_data files to calculate the mean and maximum in-flight windspeed for each video clip. These variables are then stored in the env_variables_clip2.csv file."
   ]
  },
  {
   "cell_type": "code",
   "execution_count": 2,
   "id": "lesser-sweet",
   "metadata": {},
   "outputs": [
    {
     "data": {
      "text/plain": [
       "'/Users/blaircostelloe/Dropbox/Publications/DroneDisturbance/drone-disturbance/supplement'"
      ]
     },
     "execution_count": 2,
     "metadata": {},
     "output_type": "execute_result"
    }
   ],
   "source": [
    "# import packages\n",
    "import pandas as pd\n",
    "import numpy as np\n",
    "import os\n",
    "import glob\n",
    "\n",
    "os.getcwd()"
   ]
  },
  {
   "cell_type": "code",
   "execution_count": 3,
   "id": "minimal-cuisine",
   "metadata": {},
   "outputs": [],
   "source": [
    "# set folders\n",
    "save_folder = \"/Users/blaircostelloe/Dropbox/Publications/DroneDisturbance/drone-disturbance/supplement/processed-data/\"\n",
    "\n",
    "# read in necessary files and set variables\n",
    "wind_files = glob.glob('/Users/blaircostelloe/Dropbox/Publications/DroneDisturbance/drone-disturbance/supplement/clean-data/wind-data/' + '*.csv')\n",
    "env_df = pd.read_csv('/Users/blaircostelloe/Dropbox/Publications/DroneDisturbance/drone-disturbance/supplement/processed-data/env_variables_clip.csv')\n",
    "clip_df = pd.read_csv('/Users/blaircostelloe/Dropbox/Publications/DroneDisturbance/drone-disturbance/supplement/processed-data/drone_variables_clip2.csv')"
   ]
  },
  {
   "cell_type": "code",
   "execution_count": 4,
   "id": "spiritual-storage",
   "metadata": {},
   "outputs": [],
   "source": [
    "# Get mean and max in-flight windspeed from clip ranges\n",
    "env_df['max_windspeed'] = np.nan\n",
    "env_df['mean_windspeed'] = np.nan\n",
    "for i in wind_files:\n",
    "    wind_log = pd.read_csv(i)\n",
    "    flight_name = i.split('ob')[1].split('_')[0]\n",
    "    if len(clip_df.loc[(clip_df['flight'] == flight_name) & (clip_df['clip_type'] == 'first')]) > 0:\n",
    "        clip1_start = clip_df.loc[(clip_df['flight'] == flight_name) & (clip_df['clip_type'] == 'first'), 'clip_start_log'].values[0]\n",
    "        clip1_end = clip1_start + 120000\n",
    "        clip1_mean = wind_log.loc[(wind_log['milliseconds'] >= clip1_start) & (wind_log['milliseconds'] <= clip1_end), 'windspeed'].mean()\n",
    "        clip1_max = wind_log.loc[(wind_log['milliseconds'] >= clip1_start) & (wind_log['milliseconds'] <= clip1_end), 'windspeed'].max()\n",
    "        env_df.loc[(env_df['flight'] == flight_name) & (env_df['clip_type'] == 'first'), 'mean_windspeed'] = clip1_mean\n",
    "        env_df.loc[(env_df['flight'] == flight_name) & (env_df['clip_type'] == 'first'), 'max_windspeed'] = clip1_max\n",
    "    if len(clip_df.loc[(clip_df['flight'] == flight_name) & (clip_df['clip_type'] == 'second')]) > 0:\n",
    "        clip2_start = clip_df.loc[(clip_df['flight'] == flight_name) & (clip_df['clip_type'] == 'second'), 'clip_start_log'].values[0]\n",
    "        clip2_end = clip2_start + 120000\n",
    "        clip2_mean = wind_log.loc[(wind_log['milliseconds'] >= clip2_start) & (wind_log['milliseconds'] <= clip2_end), 'windspeed'].mean()\n",
    "        clip2_max = wind_log.loc[(wind_log['milliseconds'] >= clip2_start) & (wind_log['milliseconds'] <= clip2_end), 'windspeed'].max()\n",
    "        env_df.loc[(env_df['flight'] == flight_name) & (env_df['clip_type'] == 'second'), 'mean_windspeed'] = clip2_mean\n",
    "        env_df.loc[(env_df['flight'] == flight_name) & (env_df['clip_type'] == 'second'), 'max_windspeed'] = clip2_max"
   ]
  },
  {
   "cell_type": "code",
   "execution_count": 5,
   "id": "likely-tobacco",
   "metadata": {},
   "outputs": [],
   "source": [
    "# Save new env_df dataframe to env_variables_clip2.csv\n",
    "cols_to_keep = ['flight', 'clip_type', 'bushiness_100m',\n",
    "       'max_windspeed', 'mean_windspeed']\n",
    "env_df.drop(env_df.columns.difference(cols_to_keep), axis = 1, inplace = True)\n",
    "env_df.to_csv('/Users/blaircostelloe/Dropbox/Publications/DroneDisturbance/drone-disturbance/supplement/processed-data/env_variables_clip2.csv', index = False)"
   ]
  },
  {
   "cell_type": "code",
   "execution_count": null,
   "id": "sonic-miller",
   "metadata": {},
   "outputs": [],
   "source": []
  }
 ],
 "metadata": {
  "kernelspec": {
   "display_name": "Python 3",
   "language": "python",
   "name": "python3"
  },
  "language_info": {
   "codemirror_mode": {
    "name": "ipython",
    "version": 3
   },
   "file_extension": ".py",
   "mimetype": "text/x-python",
   "name": "python",
   "nbconvert_exporter": "python",
   "pygments_lexer": "ipython3",
   "version": "3.8.5"
  }
 },
 "nbformat": 4,
 "nbformat_minor": 5
}
