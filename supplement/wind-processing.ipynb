{
 "cells": [
  {
   "cell_type": "markdown",
   "id": "monthly-relations",
   "metadata": {},
   "source": [
    "This code extracts data from the wind_data files to calculate the mean and maximum in-flight windspeed for each video clip. These variables are then stored in the env_variables_clip2.csv file."
   ]
  },
  {
   "cell_type": "code",
   "execution_count": null,
   "id": "residential-flooring",
   "metadata": {},
   "outputs": [],
   "source": [
    "# import packages\n",
    "import pandas as pd\n",
    "import numpy as np\n",
    "import os\n",
    "import glob\n",
    "\n",
    "os.getcwd()"
   ]
  },
  {
   "cell_type": "code",
   "execution_count": null,
   "id": "beneficial-waste",
   "metadata": {},
   "outputs": [],
   "source": [
    "# set folders\n",
    "save_folder = \"/Users/blaircostelloe/Dropbox/Publications/DroneDisturbance/drone-disturbance/supplement/processed-data/\"\n"
   ]
  }
 ],
 "metadata": {
  "kernelspec": {
   "display_name": "Python 3",
   "language": "python",
   "name": "python3"
  },
  "language_info": {
   "codemirror_mode": {
    "name": "ipython",
    "version": 3
   },
   "file_extension": ".py",
   "mimetype": "text/x-python",
   "name": "python",
   "nbconvert_exporter": "python",
   "pygments_lexer": "ipython3",
   "version": "3.7.10"
  }
 },
 "nbformat": 4,
 "nbformat_minor": 5
}
