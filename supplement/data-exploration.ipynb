{
 "cells": [
  {
   "cell_type": "markdown",
   "id": "ordinary-egyptian",
   "metadata": {},
   "source": [
    "With this code, I conduct basic explorations of the dataset in order to get descriptive statistics to describe the data and our drone flights.\n",
    "\n",
    "Things to calculate (calculate all after reducing dataset to focal species):\n",
    "- battery capacity at launch of replacement flight\n",
    "- mean + sd approach distance\n",
    "- mean + sd approach speed (mean of means I guess?)\n",
    "- samples sizes:\n",
    "    - number of observations per species\n",
    "    - number of flights per observation; mean + sd of observation duration\n",
    "    - how many observations were multi-species?\n",
    "    - how many observations had young?\n",
    "- mean + sd of flight duration\n",
    "- range, median of exchange durations (from launch of replacement drone to landing of original drone)\n",
    "- mean + sd flight altitude\n",
    "- weather conditions:\n",
    "    - mean + sd temperature, humidity, in-flight and ground-level wind conditions\n",
    "    - frequency of group being downwind?\n",
    "- range, median of group sizes (by species?)\n"
   ]
  }
 ],
 "metadata": {
  "kernelspec": {
   "display_name": "Python 3",
   "language": "python",
   "name": "python3"
  },
  "language_info": {
   "codemirror_mode": {
    "name": "ipython",
    "version": 3
   },
   "file_extension": ".py",
   "mimetype": "text/x-python",
   "name": "python",
   "nbconvert_exporter": "python",
   "pygments_lexer": "ipython3",
   "version": "3.8.5"
  }
 },
 "nbformat": 4,
 "nbformat_minor": 5
}
