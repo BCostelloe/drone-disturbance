{
 "cells": [
  {
   "cell_type": "markdown",
   "id": "empirical-hygiene",
   "metadata": {},
   "source": [
    "This code pulls variables from multiple clean and processed csvs to create the dataframes used in the behavioral analyses."
   ]
  },
  {
   "cell_type": "code",
   "execution_count": 1,
   "id": "abstract-constitution",
   "metadata": {},
   "outputs": [
    {
     "data": {
      "text/plain": [
       "'/Users/blaircostelloe/Dropbox/Publications/DroneDisturbance/drone-disturbance/supplement'"
      ]
     },
     "execution_count": 1,
     "metadata": {},
     "output_type": "execute_result"
    }
   ],
   "source": [
    "# import packages\n",
    "import pandas as pd\n",
    "import numpy as np\n",
    "import os\n",
    "import matplotlib.pyplot as plt\n",
    "import seaborn as sns\n",
    "\n",
    "os.getcwd()"
   ]
  },
  {
   "cell_type": "code",
   "execution_count": 6,
   "id": "coordinated-induction",
   "metadata": {},
   "outputs": [],
   "source": [
    "# read in data\n",
    "meta = pd.read_csv('clean-data/metadata.csv')\n",
    "beh = pd.read_csv('clean-data/first_clips_clean.csv')\n",
    "flight = pd.read_csv('processed-data/drone_variables_flight.csv')\n",
    "clip = pd.read_csv('processed-data/drone_variables_clip2.csv')\n",
    "env = pd.read_csv('processed-data/env_variables_clip2.csv')\n",
    "ground = pd.read_csv('clean-data/ground_conditions.csv')"
   ]
  },
  {
   "cell_type": "code",
   "execution_count": 12,
   "id": "broad-gentleman",
   "metadata": {},
   "outputs": [],
   "source": [
    "# Gather all columns in one dataframe, matching up by flight and clip_type\n",
    "new_df = pd.merge(meta, beh, on = 'flight', how = 'outer')\n",
    "new_df = pd.merge(new_df, flight, on = 'flight', how = 'outer')\n",
    "new_df = pd.merge(new_df, clip, on = ['flight'], how = 'outer')\n",
    "new_df = pd.merge(new_df, env, on = ['flight'], how = 'outer')\n",
    "new_df = pd.merge(new_df, ground, on = 'flight', how = 'outer')\n",
    "new_df.replace('NAN', np.nan, inplace = True)"
   ]
  },
  {
   "cell_type": "code",
   "execution_count": 13,
   "id": "infinite-tolerance",
   "metadata": {},
   "outputs": [],
   "source": [
    "# add in flight type (initial or replacement)\n",
    "new_df['flight_type'] = ['initial' if '-01' in i else 'replacement' for i in new_df['flight']]"
   ]
  },
  {
   "cell_type": "code",
   "execution_count": 15,
   "id": "macro-decrease",
   "metadata": {},
   "outputs": [],
   "source": [
    "# determine whether group is downwind or not\n",
    "new_df['wind_direction'] = pd.to_numeric(new_df['wind_direction'])\n",
    "new_df['angle'] = abs(new_df['wind_direction'] - new_df['launch-group_bear'])\n",
    "new_df['wind_angle'] = [i if i < 180 else 360-i for i in new_df['angle']]\n",
    "new_df['group_downwind'] = [True if i <45 else False for i in new_df['wind_angle']]"
   ]
  },
  {
   "cell_type": "code",
   "execution_count": 17,
   "id": "heavy-effort",
   "metadata": {},
   "outputs": [],
   "source": [
    "cols_to_keep = ['observation', 'site', 'date', 'flight', 'flight_type', 'species',\n",
    "       'clip_type', 'group_size_spp', 'group_size_total', 'young_present', 'group_response',\n",
    "       'launch_alt', 'group_lat', 'group_lon', 'obs_ascent', 'launch_dist', 'approach_speed_mean', 'approach_speed_max',\n",
    "       'approach_duration_minutes', 'approach_tortuousity', 'exchange_duration', 'takeoff_time', 'landing_time', 'clip_start_ascent', 'prox_move_v',\n",
    "       'prox_move_h', 'bushiness_100m', 'max_windspeed', 'mean_windspeed', 'temperature_c',\n",
    "       'wind_speed_ms', 'cloud_cover_%', 'humidity_%', 'group_downwind', 'clip_start_ascent_adj']\n",
    "new_df.drop(new_df.columns.difference(cols_to_keep), axis = 1, inplace = True)\n",
    "# new_df.rename(columns={'launch_alt_x':'launch_alt'}, inplace=True)\n",
    "new_df.to_csv('processed-data/master_df.csv', index = False)"
   ]
  },
  {
   "cell_type": "code",
   "execution_count": null,
   "id": "other-timer",
   "metadata": {},
   "outputs": [],
   "source": []
  }
 ],
 "metadata": {
  "kernelspec": {
   "display_name": "Python 3",
   "language": "python",
   "name": "python3"
  },
  "language_info": {
   "codemirror_mode": {
    "name": "ipython",
    "version": 3
   },
   "file_extension": ".py",
   "mimetype": "text/x-python",
   "name": "python",
   "nbconvert_exporter": "python",
   "pygments_lexer": "ipython3",
   "version": "3.7.10"
  }
 },
 "nbformat": 4,
 "nbformat_minor": 5
}
