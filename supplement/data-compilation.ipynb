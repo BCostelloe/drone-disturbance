{
 "cells": [
  {
   "cell_type": "markdown",
   "metadata": {},
   "source": [
    "This code pulls variables from multiple clean and processed csvs to create the dataframe used for the ordinal model of the first clips of each observation."
   ]
  },
  {
   "cell_type": "code",
   "execution_count": 15,
   "metadata": {},
   "outputs": [
    {
     "data": {
      "text/plain": [
       "'/Users/blaircostelloe/Dropbox/Publications/DroneDisturbance/drone-disturbance/supplement'"
      ]
     },
     "execution_count": 15,
     "metadata": {},
     "output_type": "execute_result"
    }
   ],
   "source": [
    "# import packages\n",
    "import pandas as pd\n",
    "import numpy as np\n",
    "import os\n",
    "import matplotlib.pyplot as plt\n",
    "import seaborn as sns\n",
    "\n",
    "os.getcwd()"
   ]
  },
  {
   "cell_type": "code",
   "execution_count": 16,
   "metadata": {},
   "outputs": [],
   "source": [
    "# read in data\n",
    "meta = pd.read_csv('clean-data/metadata.csv')\n",
    "first_clips = pd.read_csv('clean-data/first_clips_clean.csv')\n",
    "flight = pd.read_csv('processed-data/drone_variables_flight.csv')\n",
    "clip = pd.read_csv('processed-data/drone_variables_clip2.csv')\n",
    "env = pd.read_csv('processed-data/env_variables_clip2.csv')\n",
    "ground = pd.read_csv('clean-data/ground_conditions.csv')"
   ]
  },
  {
   "cell_type": "code",
   "execution_count": 17,
   "metadata": {},
   "outputs": [],
   "source": [
    "# Create dataframe for analysis of first clips\n",
    "# Gather all columns in one dataframe\n",
    "df1 = pd.merge(meta, first_clips, on = ['observation', 'site', 'flight'], how = 'outer')\n",
    "df1 = pd.merge(df1, flight, on = 'flight', how = 'outer')\n",
    "df1 = pd.merge(df1, clip, on = 'flight', how = 'outer')\n",
    "df1 = pd.merge(df1, env, on = 'flight', how = 'outer')\n",
    "df1 = pd.merge(df1, ground, on = 'flight', how = 'outer')\n",
    "df1.replace('NAN', np.nan, inplace = True)\n",
    "\n",
    "# add in flight type (initial or replacement)\n",
    "df1['flight_type'] = ['initial' if '-01' in i else 'replacement' for i in df1['flight']]\n",
    "\n",
    "# determine whether group is downwind or not\n",
    "df1['wind_direction'] = pd.to_numeric(df1['wind_direction'])\n",
    "df1['angle'] = abs(df1['wind_direction'] - df1['launch-group_bear'])\n",
    "df1['wind_angle'] = [i if i < 180 else 360-i for i in df1['angle']]\n",
    "df1['group_downwind'] = [True if i <45 else False for i in df1['wind_angle']]\n",
    "\n",
    "# make boolean variable indicating whether other species are present\n",
    "df1['other_spp'] = [True if i>t else False for i,t in zip(df1['group_size_total'],df1['group_size_spp'])]\n",
    "\n",
    "# save dataframe\n",
    "cols_to_keep = ['observation', 'site', 'date', 'flight', 'species',\n",
    "       'clip_type', 'group_size_spp', 'group_size_total', 'young_present', 'group_behavior',\n",
    "       'launch_alt', 'group_lat', 'group_lon', 'obs_ascent', 'launch_dist', 'approach_speed_mean', 'approach_speed_max',\n",
    "       'approach_duration_minutes', 'approach_tortuousity', 'exchange_duration', 'takeoff_time', 'landing_time', 'clip_start_ascent', 'prox_move_v',\n",
    "       'prox_move_h', 'bushiness_100m', 'max_windspeed', 'mean_windspeed', 'temperature_c',\n",
    "       'wind_speed_ms', 'cloud_cover_%', 'humidity_%', 'group_downwind', 'clip_start_ascent_adj', 'other_spp']\n",
    "df1.drop(df1.columns.difference(cols_to_keep), axis = 1, inplace = True)\n",
    "df1.to_csv('/Users/blaircostelloe/Dropbox/Publications/DroneDisturbance/drone-disturbance/data/first_clips.csv', index = False)"
   ]
  },
  {
   "cell_type": "code",
   "execution_count": null,
   "metadata": {},
   "outputs": [],
   "source": []
  }
 ],
 "metadata": {
  "kernelspec": {
   "display_name": "Python 3",
   "language": "python",
   "name": "python3"
  },
  "language_info": {
   "codemirror_mode": {
    "name": "ipython",
    "version": 3
   },
   "file_extension": ".py",
   "mimetype": "text/x-python",
   "name": "python",
   "nbconvert_exporter": "python",
   "pygments_lexer": "ipython3",
   "version": "3.8.5"
  }
 },
 "nbformat": 4,
 "nbformat_minor": 5
}
