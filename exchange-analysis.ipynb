{
 "cells": [
  {
   "cell_type": "markdown",
   "metadata": {},
   "source": [
    "This code compares the behavior of animal groups before, during and after drone exchanges. We have scored each group's behavioral state during the two minutes prior to the drone exchange (the two minutes preceding the launch of the replacement drone), during the drone exchange (the time during which two drones are in flight), and the two minutes after the drone exchange (the two minutes after the replaced drone lands)."
   ]
  },
  {
   "cell_type": "code",
   "execution_count": 1,
   "metadata": {},
   "outputs": [],
   "source": [
    "# import packages\n",
    "import pandas as pd\n",
    "from scipy.stats import wilcoxon\n",
    "import seaborn as sns\n",
    "import numpy as np"
   ]
  },
  {
   "cell_type": "code",
   "execution_count": 2,
   "metadata": {},
   "outputs": [
    {
     "data": {
      "text/html": [
       "<div>\n",
       "<style scoped>\n",
       "    .dataframe tbody tr th:only-of-type {\n",
       "        vertical-align: middle;\n",
       "    }\n",
       "\n",
       "    .dataframe tbody tr th {\n",
       "        vertical-align: top;\n",
       "    }\n",
       "\n",
       "    .dataframe thead th {\n",
       "        text-align: right;\n",
       "    }\n",
       "</style>\n",
       "<table border=\"1\" class=\"dataframe\">\n",
       "  <thead>\n",
       "    <tr style=\"text-align: right;\">\n",
       "      <th>clip_type</th>\n",
       "      <th>exchange_num</th>\n",
       "      <th>species</th>\n",
       "      <th>exchange</th>\n",
       "      <th>post</th>\n",
       "      <th>pre</th>\n",
       "    </tr>\n",
       "    <tr>\n",
       "      <th>index</th>\n",
       "      <th></th>\n",
       "      <th></th>\n",
       "      <th></th>\n",
       "      <th></th>\n",
       "      <th></th>\n",
       "    </tr>\n",
       "  </thead>\n",
       "  <tbody>\n",
       "    <tr>\n",
       "      <th>0</th>\n",
       "      <td>ob025-1</td>\n",
       "      <td>pz</td>\n",
       "      <td>0</td>\n",
       "      <td>0</td>\n",
       "      <td>0</td>\n",
       "    </tr>\n",
       "    <tr>\n",
       "      <th>1</th>\n",
       "      <td>ob029-1</td>\n",
       "      <td>imp</td>\n",
       "      <td>1</td>\n",
       "      <td>1</td>\n",
       "      <td>1</td>\n",
       "    </tr>\n",
       "    <tr>\n",
       "      <th>2</th>\n",
       "      <td>ob031-1</td>\n",
       "      <td>imp</td>\n",
       "      <td>1</td>\n",
       "      <td>1</td>\n",
       "      <td>0</td>\n",
       "    </tr>\n",
       "    <tr>\n",
       "      <th>3</th>\n",
       "      <td>ob033-1</td>\n",
       "      <td>pz</td>\n",
       "      <td>0</td>\n",
       "      <td>0</td>\n",
       "      <td>2</td>\n",
       "    </tr>\n",
       "    <tr>\n",
       "      <th>4</th>\n",
       "      <td>ob039-1</td>\n",
       "      <td>imp</td>\n",
       "      <td>0</td>\n",
       "      <td>0</td>\n",
       "      <td>0</td>\n",
       "    </tr>\n",
       "    <tr>\n",
       "      <th>...</th>\n",
       "      <td>...</td>\n",
       "      <td>...</td>\n",
       "      <td>...</td>\n",
       "      <td>...</td>\n",
       "      <td>...</td>\n",
       "    </tr>\n",
       "    <tr>\n",
       "      <th>63</th>\n",
       "      <td>ob114-1</td>\n",
       "      <td>pz</td>\n",
       "      <td>0</td>\n",
       "      <td>0</td>\n",
       "      <td>0</td>\n",
       "    </tr>\n",
       "    <tr>\n",
       "      <th>64</th>\n",
       "      <td>ob114-2</td>\n",
       "      <td>gz</td>\n",
       "      <td>0</td>\n",
       "      <td>0</td>\n",
       "      <td>0</td>\n",
       "    </tr>\n",
       "    <tr>\n",
       "      <th>65</th>\n",
       "      <td>ob114-2</td>\n",
       "      <td>imp</td>\n",
       "      <td>0</td>\n",
       "      <td>0</td>\n",
       "      <td>0</td>\n",
       "    </tr>\n",
       "    <tr>\n",
       "      <th>66</th>\n",
       "      <td>ob114-2</td>\n",
       "      <td>pz</td>\n",
       "      <td>0</td>\n",
       "      <td>0</td>\n",
       "      <td>0</td>\n",
       "    </tr>\n",
       "    <tr>\n",
       "      <th>67</th>\n",
       "      <td>ob115-2</td>\n",
       "      <td>pz</td>\n",
       "      <td>2</td>\n",
       "      <td>2</td>\n",
       "      <td>2</td>\n",
       "    </tr>\n",
       "  </tbody>\n",
       "</table>\n",
       "<p>68 rows × 5 columns</p>\n",
       "</div>"
      ],
      "text/plain": [
       "clip_type exchange_num species exchange post pre\n",
       "index                                           \n",
       "0              ob025-1      pz        0    0   0\n",
       "1              ob029-1     imp        1    1   1\n",
       "2              ob031-1     imp        1    1   0\n",
       "3              ob033-1      pz        0    0   2\n",
       "4              ob039-1     imp        0    0   0\n",
       "...                ...     ...      ...  ...  ..\n",
       "63             ob114-1      pz        0    0   0\n",
       "64             ob114-2      gz        0    0   0\n",
       "65             ob114-2     imp        0    0   0\n",
       "66             ob114-2      pz        0    0   0\n",
       "67             ob115-2      pz        2    2   2\n",
       "\n",
       "[68 rows x 5 columns]"
      ]
     },
     "execution_count": 2,
     "metadata": {},
     "output_type": "execute_result"
    }
   ],
   "source": [
    "# load data\n",
    "df = pd.read_csv('data/exchanges_clean.csv')\n",
    "df['group_behavior'] = df['group_behavior'].astype('object')\n",
    "\n",
    "# reshape data\n",
    "df2 = df.drop(['observation','start_flight', 'start_timestamp', 'end_flight', 'end_timestamp'], axis = 1)\n",
    "df_new = df2.pivot(index = ['exchange_num','species'], columns = 'clip_type', values='group_behavior')\n",
    "df_new.reset_index(inplace=True)  \n",
    "df_new.index.rename('index', inplace = True)\n",
    "df_new"
   ]
  },
  {
   "cell_type": "code",
   "execution_count": 3,
   "metadata": {},
   "outputs": [
    {
     "data": {
      "text/html": [
       "<div>\n",
       "<style scoped>\n",
       "    .dataframe tbody tr th:only-of-type {\n",
       "        vertical-align: middle;\n",
       "    }\n",
       "\n",
       "    .dataframe tbody tr th {\n",
       "        vertical-align: top;\n",
       "    }\n",
       "\n",
       "    .dataframe thead th {\n",
       "        text-align: right;\n",
       "    }\n",
       "</style>\n",
       "<table border=\"1\" class=\"dataframe\">\n",
       "  <thead>\n",
       "    <tr style=\"text-align: right;\">\n",
       "      <th></th>\n",
       "      <th>W-statistic</th>\n",
       "      <th>p-value</th>\n",
       "    </tr>\n",
       "  </thead>\n",
       "  <tbody>\n",
       "    <tr>\n",
       "      <th>before vs during</th>\n",
       "      <td>383.0</td>\n",
       "      <td>0.858171</td>\n",
       "    </tr>\n",
       "    <tr>\n",
       "      <th>during vs after</th>\n",
       "      <td>156.5</td>\n",
       "      <td>0.017482</td>\n",
       "    </tr>\n",
       "    <tr>\n",
       "      <th>before vs after</th>\n",
       "      <td>340.0</td>\n",
       "      <td>0.062287</td>\n",
       "    </tr>\n",
       "  </tbody>\n",
       "</table>\n",
       "</div>"
      ],
      "text/plain": [
       "                  W-statistic   p-value\n",
       "before vs during        383.0  0.858171\n",
       "during vs after         156.5  0.017482\n",
       "before vs after         340.0  0.062287"
      ]
     },
     "execution_count": 3,
     "metadata": {},
     "output_type": "execute_result"
    }
   ],
   "source": [
    "# Pratt zero method is more robust for ordinal data. Do two-tailed tests.\n",
    "\n",
    "# Compare behavior before exchange to behavior during exchange\n",
    "r1 = wilcoxon(df_new['pre'], df_new['exchange'], zero_method = 'pratt')\n",
    "# Compare behavior during exchange to behavior after exchange\n",
    "r2 = wilcoxon(df_new['exchange'], df_new['post'], zero_method = 'pratt')\n",
    "# Compare behavior before exchange to after exchange\n",
    "r3 = wilcoxon(df_new['pre'], df_new['post'], zero_method = 'pratt')\n",
    "\n",
    "# print results in table\n",
    "pd.DataFrame(np.array([r1, r2, r3]), columns = ['W-statistic', 'p-value'], \n",
    "             index = ['before vs during', 'during vs after', 'before vs after'])"
   ]
  },
  {
   "cell_type": "code",
   "execution_count": 18,
   "metadata": {},
   "outputs": [
    {
     "data": {
      "text/plain": [
       "13.421955403087479"
      ]
     },
     "execution_count": 18,
     "metadata": {},
     "output_type": "execute_result"
    }
   ],
   "source": [
    "#If the test statistic W is reported, the rank correlation r is equal to the test statistic W divided by the \n",
    "# total rank sum S, or r = W/S. [8] Using the above example, the test statistic is W = 9. The sample size of 9 \n",
    "# has a total rank sum of S = (1 + 2 + 3 + 4 + 5 + 6 + 7 + 8 + 9) = 45. Hence, the rank correlation is 9/45, so \n",
    "# r = 0.20. "
   ]
  },
  {
   "cell_type": "code",
   "execution_count": 21,
   "metadata": {},
   "outputs": [
    {
     "data": {
      "text/plain": [
       "18.99053944034487"
      ]
     },
     "execution_count": 21,
     "metadata": {},
     "output_type": "execute_result"
    }
   ],
   "source": [
    "156.6/(np.sqrt(68))"
   ]
  },
  {
   "cell_type": "code",
   "execution_count": 13,
   "metadata": {},
   "outputs": [
    {
     "data": {
      "text/plain": [
       "WilcoxonResult(statistic=156.5, pvalue=0.008740837204306321)"
      ]
     },
     "execution_count": 13,
     "metadata": {},
     "output_type": "execute_result"
    }
   ],
   "source": [
    "# One-tailed test for during vs after\n",
    "\n",
    "# Compare behavior during exchange to behavior after exchange\n",
    "r2_1 = wilcoxon(df_new['exchange'], df_new['post'], zero_method = 'pratt', alternative = 'less')\n",
    "\n",
    "r2_1"
   ]
  },
  {
   "cell_type": "code",
   "execution_count": 4,
   "metadata": {},
   "outputs": [],
   "source": [
    "# # Create a version of the behavior scores in which each score has a small value added to it. This will allow the\n",
    "# # data points to be jittered in a swarm plot so that all points can be displayed.\n",
    "# df['jittered_scores'] = (np.random.randint(-250,250,len(df))/1000) + df['group_behavior']"
   ]
  },
  {
   "cell_type": "code",
   "execution_count": 7,
   "metadata": {},
   "outputs": [
    {
     "data": {
      "image/png": "[encoded data removed]",
      "text/plain": [
       "<Figure size 432x288 with 1 Axes>"
      ]
     },
     "metadata": {
      "needs_background": "light"
     },
     "output_type": "display_data"
    }
   ],
   "source": [
    "# #ax = sns.violinplot(x = 'clip_type', y = 'group_behavior', data = df, order = ['pre', 'exchange', 'post'])\n",
    "# #ax = sns.swarmplot(x = 'clip_type', y = 'jittered_scores', data = df, order = ['pre', 'exchange', 'post'], color = '0.2')\n",
    "# ax = sns.swarmplot(x = 'clip_type', y = 'jittered_scores', hue = 'species', data = df, order = ['pre', 'exchange', 'post'])\n",
    "# ax.set(xlabel='Time Period', ylabel='Group Behavior Score', yticks = [0,1,2,3], xticklabels = ['Before Exchange', 'During Exchange', 'After Exchange'],\n",
    "#       yticklabels = ['Resting', 'Alert', 'Walking', \"Fleeing\"])\n",
    "# sns.despine(offset = 10)"
   ]
  },
  {
   "cell_type": "code",
   "execution_count": 4,
   "metadata": {},
   "outputs": [
    {
     "data": {
      "image/png": "[encoded data removed]",
      "text/plain": [
       "<Figure size 216x648 with 3 Axes>"
      ]
     },
     "metadata": {
      "needs_background": "light"
     },
     "output_type": "display_data"
    }
   ],
   "source": [
    "g = sns.FacetGrid(df, row = 'clip_type', row_order = ['pre', 'exchange', 'post'])\n",
    "g.map_dataframe(sns.countplot, x=\"group_behavior\")\n",
    "g.set(xticks = [0,1,2,3], xlim=[-0.5,3.6])\n",
    "g.set_axis_labels(\"Group Behavior\", \"Groups (n)\")\n",
    "g.set_xticklabels(['Resting/\\nforaging', 'Alert', 'Walking', 'Fleeing'])\n",
    "for ax, title in zip(g.axes.flat, ['Before exchange', 'During exchange', 'After exchange']):\n",
    "    ax.set_title(title)"
   ]
  },
  {
   "cell_type": "code",
   "execution_count": 5,
   "metadata": {},
   "outputs": [
    {
     "name": "stderr",
     "output_type": "stream",
     "text": [
      "/Users/blaircostelloe/opt/anaconda3/lib/python3.8/site-packages/seaborn/_decorators.py:36: FutureWarning: Pass the following variable as a keyword arg: x. From version 0.12, the only valid positional argument will be `data`, and passing other arguments without an explicit keyword will result in an error or misinterpretation.\n",
      "  warnings.warn(\n"
     ]
    },
    {
     "data": {
      "text/plain": [
       "<AxesSubplot:ylabel='count'>"
      ]
     },
     "execution_count": 5,
     "metadata": {},
     "output_type": "execute_result"
    },
    {
     "data": {
      "image/png": "[encoded data removed]",
      "text/plain": [
       "<Figure size 432x288 with 1 Axes>"
      ]
     },
     "metadata": {
      "needs_background": "light"
     },
     "output_type": "display_data"
    }
   ],
   "source": [
    "# compare variance between the three groups by bootstrapping and calculating Interquartile range of each distribution\n",
    "from scipy.stats import iqr\n",
    "# before exchange\n",
    "before_IQR = []\n",
    "for i in range(10000):\n",
    "    sample_n = np.random.choice(df_new.pre, size = 68)\n",
    "    before_IQR.append(iqr(sample_n))\n",
    "\n",
    "sns.countplot(before_IQR)\n",
    "# #sns.countplot(pre_vs_during)\n",
    "\n",
    "# sample_mean = [] # use mean here or median?\n",
    "# for i in range(10000):\n",
    "#     sample_n = np.random.choice(pre_vs_during, size = 20)\n",
    "#     sample_mean.append(np.mean(sample_n))\n",
    "\n",
    "# sns.countplot(sample_mean)"
   ]
  },
  {
   "cell_type": "code",
   "execution_count": 6,
   "metadata": {},
   "outputs": [
    {
     "name": "stderr",
     "output_type": "stream",
     "text": [
      "/Users/blaircostelloe/opt/anaconda3/lib/python3.8/site-packages/seaborn/_decorators.py:36: FutureWarning: Pass the following variable as a keyword arg: x. From version 0.12, the only valid positional argument will be `data`, and passing other arguments without an explicit keyword will result in an error or misinterpretation.\n",
      "  warnings.warn(\n"
     ]
    },
    {
     "data": {
      "text/plain": [
       "<AxesSubplot:ylabel='count'>"
      ]
     },
     "execution_count": 6,
     "metadata": {},
     "output_type": "execute_result"
    },
    {
     "data": {
      "image/png": "[encoded data removed]",
      "text/plain": [
       "<Figure size 432x288 with 1 Axes>"
      ]
     },
     "metadata": {
      "needs_background": "light"
     },
     "output_type": "display_data"
    }
   ],
   "source": [
    "exchange_IQR = []\n",
    "for i in range(10000):\n",
    "    sample_n = np.random.choice(df_new.exchange, size = 68)\n",
    "    exchange_IQR.append(iqr(sample_n))\n",
    "\n",
    "sns.countplot(exchange_IQR)"
   ]
  },
  {
   "cell_type": "code",
   "execution_count": 7,
   "metadata": {},
   "outputs": [
    {
     "name": "stderr",
     "output_type": "stream",
     "text": [
      "/Users/blaircostelloe/opt/anaconda3/lib/python3.8/site-packages/seaborn/_decorators.py:36: FutureWarning: Pass the following variable as a keyword arg: x. From version 0.12, the only valid positional argument will be `data`, and passing other arguments without an explicit keyword will result in an error or misinterpretation.\n",
      "  warnings.warn(\n"
     ]
    },
    {
     "data": {
      "text/plain": [
       "<AxesSubplot:ylabel='count'>"
      ]
     },
     "execution_count": 7,
     "metadata": {},
     "output_type": "execute_result"
    },
    {
     "data": {
      "image/png": "[encoded data removed]",
      "text/plain": [
       "<Figure size 432x288 with 1 Axes>"
      ]
     },
     "metadata": {
      "needs_background": "light"
     },
     "output_type": "display_data"
    }
   ],
   "source": [
    "post_IQR = []\n",
    "for i in range(10000):\n",
    "    sample_n = np.random.choice(df_new.post, size = 68)\n",
    "    post_IQR.append(iqr(sample_n))\n",
    "\n",
    "sns.countplot(post_IQR)"
   ]
  },
  {
   "cell_type": "code",
   "execution_count": null,
   "metadata": {},
   "outputs": [],
   "source": [
    "# To compare the behavior of groups before, during and after the exchange, I should take the\n",
    "# difference between each pair of groups, run bootstrap on the distribution, and see if 0 falls in the 95 \n",
    "# confidence interval.\n",
    "# bootstrapping tutorial: https://datasciencechalktalk.com/2019/11/12/bootstrap-sampling-an-implementation-with-python/"
   ]
  },
  {
   "cell_type": "code",
   "execution_count": 8,
   "metadata": {},
   "outputs": [
    {
     "name": "stderr",
     "output_type": "stream",
     "text": [
      "/Users/blaircostelloe/opt/anaconda3/lib/python3.8/site-packages/seaborn/distributions.py:2551: FutureWarning: `distplot` is a deprecated function and will be removed in a future version. Please adapt your code to use either `displot` (a figure-level function with similar flexibility) or `histplot` (an axes-level function for histograms).\n",
      "  warnings.warn(msg, FutureWarning)\n"
     ]
    },
    {
     "data": {
      "text/plain": [
       "<AxesSubplot:ylabel='Density'>"
      ]
     },
     "execution_count": 8,
     "metadata": {},
     "output_type": "execute_result"
    },
    {
     "data": {
      "image/png": "[encoded data removed]",
      "text/plain": [
       "<Figure size 432x288 with 1 Axes>"
      ]
     },
     "metadata": {
      "needs_background": "light"
     },
     "output_type": "display_data"
    }
   ],
   "source": [
    "# To compare before versus during exchange:\n",
    "pre_vs_during = df_new.pre - df_new.exchange\n",
    "\n",
    "#sns.countplot(pre_vs_during)\n",
    "\n",
    "sample_mean = [] # use mean here or median?\n",
    "for i in range(10000):\n",
    "    sample_n = np.random.choice(pre_vs_during, size = 68)\n",
    "    sample_mean.append(np.mean(sample_n))\n",
    "\n",
    "sns.distplot(sample_mean)\n",
    "\n",
    "# sample_mean = []\n",
    "# for _ in range(10000):  #so B=10000\n",
    "#     sample_n = np.random.choice(sample, size=300)\n",
    "#     sample_mean.append(sample_n.mean())"
   ]
  },
  {
   "cell_type": "code",
   "execution_count": 9,
   "metadata": {},
   "outputs": [
    {
     "name": "stderr",
     "output_type": "stream",
     "text": [
      "/Users/blaircostelloe/opt/anaconda3/lib/python3.8/site-packages/seaborn/distributions.py:2551: FutureWarning: `distplot` is a deprecated function and will be removed in a future version. Please adapt your code to use either `displot` (a figure-level function with similar flexibility) or `histplot` (an axes-level function for histograms).\n",
      "  warnings.warn(msg, FutureWarning)\n"
     ]
    },
    {
     "data": {
      "text/plain": [
       "<AxesSubplot:ylabel='Density'>"
      ]
     },
     "execution_count": 9,
     "metadata": {},
     "output_type": "execute_result"
    },
    {
     "data": {
      "image/png": "[encoded data removed]",
      "text/plain": [
       "<Figure size 432x288 with 1 Axes>"
      ]
     },
     "metadata": {
      "needs_background": "light"
     },
     "output_type": "display_data"
    }
   ],
   "source": [
    "# To compare during versus after exchange:\n",
    "during_vs_post = df_new.exchange - df_new.post\n",
    "\n",
    "#sns.countplot(pre_vs_during)\n",
    "\n",
    "sample_mean = [] # use mean here or median?\n",
    "for i in range(10000):\n",
    "    sample_n = np.random.choice(during_vs_post, size = 68)\n",
    "    sample_mean.append(np.mean(sample_n))\n",
    "\n",
    "sns.distplot(sample_mean)"
   ]
  },
  {
   "cell_type": "code",
   "execution_count": 10,
   "metadata": {},
   "outputs": [
    {
     "name": "stderr",
     "output_type": "stream",
     "text": [
      "/Users/blaircostelloe/opt/anaconda3/lib/python3.8/site-packages/seaborn/distributions.py:2551: FutureWarning: `distplot` is a deprecated function and will be removed in a future version. Please adapt your code to use either `displot` (a figure-level function with similar flexibility) or `histplot` (an axes-level function for histograms).\n",
      "  warnings.warn(msg, FutureWarning)\n"
     ]
    },
    {
     "data": {
      "text/plain": [
       "<AxesSubplot:ylabel='Density'>"
      ]
     },
     "execution_count": 10,
     "metadata": {},
     "output_type": "execute_result"
    },
    {
     "data": {
      "image/png": "[encoded data removed]",
      "text/plain": [
       "<Figure size 432x288 with 1 Axes>"
      ]
     },
     "metadata": {
      "needs_background": "light"
     },
     "output_type": "display_data"
    }
   ],
   "source": [
    "# To compare during versus after exchange:\n",
    "pre_vs_post = df_new.pre - df_new.post\n",
    "\n",
    "#sns.countplot(pre_vs_during)\n",
    "\n",
    "sample_mean = [] # use mean here or median?\n",
    "for i in range(10000):\n",
    "    sample_n = np.random.choice(pre_vs_post, size = 68)\n",
    "    sample_mean.append(np.mean(sample_n))\n",
    "\n",
    "sns.distplot(sample_mean)"
   ]
  },
  {
   "cell_type": "code",
   "execution_count": null,
   "metadata": {},
   "outputs": [],
   "source": []
  }
 ],
 "metadata": {
  "kernelspec": {
   "display_name": "Python 3",
   "language": "python",
   "name": "python3"
  },
  "language_info": {
   "codemirror_mode": {
    "name": "ipython",
    "version": 3
   },
   "file_extension": ".py",
   "mimetype": "text/x-python",
   "name": "python",
   "nbconvert_exporter": "python",
   "pygments_lexer": "ipython3",
   "version": "3.8.5"
  }
 },
 "nbformat": 4,
 "nbformat_minor": 5
}
