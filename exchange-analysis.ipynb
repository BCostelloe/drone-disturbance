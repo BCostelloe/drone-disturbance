{
 "cells": [
  {
   "cell_type": "markdown",
   "id": "postal-volunteer",
   "metadata": {},
   "source": [
    "This code compares the behavior of animal groups before, during and after drone exchanges. We have scored each group's behavioral state during the two minutes prior to the drone exchange (the two minutes preceding the launch of the replacement drone), during the drone exchange (the time during which two drones are in flight), and the two minutes after the drone exchange (the two minutes after the replaced drone lands)."
   ]
  },
  {
   "cell_type": "code",
   "execution_count": 49,
   "id": "sustained-steps",
   "metadata": {},
   "outputs": [],
   "source": [
    "# import packages\n",
    "import pandas as pd\n",
    "from scipy.stats import wilcoxon\n",
    "import seaborn as sns\n",
    "import numpy as np"
   ]
  },
  {
   "cell_type": "code",
   "execution_count": 23,
   "id": "dying-saint",
   "metadata": {},
   "outputs": [
    {
     "data": {
      "text/html": [
       "<div>\n",
       "<style scoped>\n",
       "    .dataframe tbody tr th:only-of-type {\n",
       "        vertical-align: middle;\n",
       "    }\n",
       "\n",
       "    .dataframe tbody tr th {\n",
       "        vertical-align: top;\n",
       "    }\n",
       "\n",
       "    .dataframe thead th {\n",
       "        text-align: right;\n",
       "    }\n",
       "</style>\n",
       "<table border=\"1\" class=\"dataframe\">\n",
       "  <thead>\n",
       "    <tr style=\"text-align: right;\">\n",
       "      <th>clip_type</th>\n",
       "      <th>exchange_num</th>\n",
       "      <th>species</th>\n",
       "      <th>exchange</th>\n",
       "      <th>post</th>\n",
       "      <th>pre</th>\n",
       "    </tr>\n",
       "    <tr>\n",
       "      <th>index</th>\n",
       "      <th></th>\n",
       "      <th></th>\n",
       "      <th></th>\n",
       "      <th></th>\n",
       "      <th></th>\n",
       "    </tr>\n",
       "  </thead>\n",
       "  <tbody>\n",
       "    <tr>\n",
       "      <th>0</th>\n",
       "      <td>ob025-1</td>\n",
       "      <td>pz</td>\n",
       "      <td>0.0</td>\n",
       "      <td>0.0</td>\n",
       "      <td>0.0</td>\n",
       "    </tr>\n",
       "    <tr>\n",
       "      <th>1</th>\n",
       "      <td>ob029-1</td>\n",
       "      <td>imp</td>\n",
       "      <td>1.0</td>\n",
       "      <td>1.0</td>\n",
       "      <td>1.0</td>\n",
       "    </tr>\n",
       "    <tr>\n",
       "      <th>2</th>\n",
       "      <td>ob031-1</td>\n",
       "      <td>imp</td>\n",
       "      <td>1.0</td>\n",
       "      <td>1.0</td>\n",
       "      <td>0.0</td>\n",
       "    </tr>\n",
       "    <tr>\n",
       "      <th>3</th>\n",
       "      <td>ob033-1</td>\n",
       "      <td>pz</td>\n",
       "      <td>0.0</td>\n",
       "      <td>0.0</td>\n",
       "      <td>2.0</td>\n",
       "    </tr>\n",
       "    <tr>\n",
       "      <th>4</th>\n",
       "      <td>ob039-1</td>\n",
       "      <td>imp</td>\n",
       "      <td>0.0</td>\n",
       "      <td>0.0</td>\n",
       "      <td>0.0</td>\n",
       "    </tr>\n",
       "    <tr>\n",
       "      <th>...</th>\n",
       "      <td>...</td>\n",
       "      <td>...</td>\n",
       "      <td>...</td>\n",
       "      <td>...</td>\n",
       "      <td>...</td>\n",
       "    </tr>\n",
       "    <tr>\n",
       "      <th>63</th>\n",
       "      <td>ob114-1</td>\n",
       "      <td>pz</td>\n",
       "      <td>0.0</td>\n",
       "      <td>0.0</td>\n",
       "      <td>0.0</td>\n",
       "    </tr>\n",
       "    <tr>\n",
       "      <th>64</th>\n",
       "      <td>ob114-2</td>\n",
       "      <td>gz</td>\n",
       "      <td>0.0</td>\n",
       "      <td>0.0</td>\n",
       "      <td>0.0</td>\n",
       "    </tr>\n",
       "    <tr>\n",
       "      <th>65</th>\n",
       "      <td>ob114-2</td>\n",
       "      <td>imp</td>\n",
       "      <td>0.0</td>\n",
       "      <td>0.0</td>\n",
       "      <td>0.0</td>\n",
       "    </tr>\n",
       "    <tr>\n",
       "      <th>66</th>\n",
       "      <td>ob114-2</td>\n",
       "      <td>pz</td>\n",
       "      <td>0.0</td>\n",
       "      <td>0.0</td>\n",
       "      <td>0.0</td>\n",
       "    </tr>\n",
       "    <tr>\n",
       "      <th>67</th>\n",
       "      <td>ob115-2</td>\n",
       "      <td>pz</td>\n",
       "      <td>2.0</td>\n",
       "      <td>2.0</td>\n",
       "      <td>2.0</td>\n",
       "    </tr>\n",
       "  </tbody>\n",
       "</table>\n",
       "<p>68 rows × 5 columns</p>\n",
       "</div>"
      ],
      "text/plain": [
       "clip_type exchange_num species  exchange  post  pre\n",
       "index                                              \n",
       "0              ob025-1      pz       0.0   0.0  0.0\n",
       "1              ob029-1     imp       1.0   1.0  1.0\n",
       "2              ob031-1     imp       1.0   1.0  0.0\n",
       "3              ob033-1      pz       0.0   0.0  2.0\n",
       "4              ob039-1     imp       0.0   0.0  0.0\n",
       "...                ...     ...       ...   ...  ...\n",
       "63             ob114-1      pz       0.0   0.0  0.0\n",
       "64             ob114-2      gz       0.0   0.0  0.0\n",
       "65             ob114-2     imp       0.0   0.0  0.0\n",
       "66             ob114-2      pz       0.0   0.0  0.0\n",
       "67             ob115-2      pz       2.0   2.0  2.0\n",
       "\n",
       "[68 rows x 5 columns]"
      ]
     },
     "execution_count": 23,
     "metadata": {},
     "output_type": "execute_result"
    }
   ],
   "source": [
    "# load data\n",
    "df = pd.read_csv('data/exchanges_clean.csv')\n",
    "\n",
    "# reshape data\n",
    "df2 = df.drop(['observation','start_flight', 'start_timestamp', 'end_flight', 'end_timestamp'], axis = 1)\n",
    "df_new = df2.pivot(index = ['exchange_num','species'], columns = 'clip_type', values='group_behavior')\n",
    "df_new.reset_index(inplace=True)  \n",
    "df_new.index.rename('index', inplace = True)\n",
    "df_new"
   ]
  },
  {
   "cell_type": "code",
   "execution_count": 35,
   "id": "fundamental-rates",
   "metadata": {},
   "outputs": [
    {
     "data": {
      "text/plain": [
       "WilcoxonResult(statistic=382.0, pvalue=0.12224479755133902)"
      ]
     },
     "execution_count": 35,
     "metadata": {},
     "output_type": "execute_result"
    }
   ],
   "source": [
    "# Compare behavior before exchange to behavior during exchange\n",
    "wilcoxon(df_new['pre'], df_new['exchange'], zero_method = 'pratt')\n",
    "\n",
    "# Compare behavior during exchange to behavior after exchange\n",
    "wilcoxon(df_new['exchange'], df_new['post'], zero_method = 'pratt')\n",
    "\n",
    "# Compare behavior before exchange to after exchange\n",
    "wilcoxon(df_new['pre'], df_new['post'], zero_method = 'pratt')"
   ]
  },
  {
   "cell_type": "code",
   "execution_count": 68,
   "id": "accurate-bracelet",
   "metadata": {},
   "outputs": [],
   "source": [
    "# Create a version of the behavior scores in which each score has a small value added to it. This will allow the\n",
    "# data points to be jittered in a swarm plot so that all points can be displayed.\n",
    "df['jittered_scores'] = (np.random.randint(-250,250,len(df))/1000) + df['group_behavior']"
   ]
  },
  {
   "cell_type": "code",
   "execution_count": 95,
   "id": "blocked-desperate",
   "metadata": {},
   "outputs": [
    {
     "data": {
      "image/png": "[encoded data removed]",
      "text/plain": [
       "<Figure size 432x288 with 1 Axes>"
      ]
     },
     "metadata": {
      "needs_background": "light"
     },
     "output_type": "display_data"
    }
   ],
   "source": [
    "#ax = sns.violinplot(x = 'clip_type', y = 'group_behavior', data = df, order = ['pre', 'exchange', 'post'])\n",
    "ax = sns.swarmplot(x = 'clip_type', y = 'jittered_scores', data = df, order = ['pre', 'exchange', 'post'], color = '0.2')\n",
    "ax.set(xlabel='Time Period', ylabel='Group Behavior Score', yticks = [0,1,2,3], xticklabels = ['Before Exchange', 'During Exchange', 'After Exchange'],\n",
    "      yticklabels = ['Resting', 'Alert', 'Walking', \"Fleeing\"])\n",
    "sns.despine(offset = 10)"
   ]
  },
  {
   "cell_type": "code",
   "execution_count": null,
   "id": "unlikely-enforcement",
   "metadata": {},
   "outputs": [],
   "source": []
  }
 ],
 "metadata": {
  "kernelspec": {
   "display_name": "Python 3",
   "language": "python",
   "name": "python3"
  },
  "language_info": {
   "codemirror_mode": {
    "name": "ipython",
    "version": 3
   },
   "file_extension": ".py",
   "mimetype": "text/x-python",
   "name": "python",
   "nbconvert_exporter": "python",
   "pygments_lexer": "ipython3",
   "version": "3.8.5"
  }
 },
 "nbformat": 4,
 "nbformat_minor": 5
}
