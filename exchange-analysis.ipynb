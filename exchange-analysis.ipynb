{
 "cells": [
  {
   "cell_type": "markdown",
   "metadata": {},
   "source": [
    "This code compares the behavior of animal groups before, during and after drone exchanges. We have scored each group's behavioral state during the two minutes prior to the drone exchange (the two minutes preceding the launch of the replacement drone), during the drone exchange (the time during which two drones are in flight), and the two minutes after the drone exchange (the two minutes after the replaced drone lands)."
   ]
  },
  {
   "cell_type": "code",
   "execution_count": 1,
   "metadata": {},
   "outputs": [],
   "source": [
    "# import packages\n",
    "import pandas as pd\n",
    "from scipy.stats import wilcoxon\n",
    "import seaborn as sns\n",
    "import numpy as np"
   ]
  },
  {
   "cell_type": "code",
   "execution_count": 17,
   "metadata": {},
   "outputs": [
    {
     "data": {
      "text/html": [
       "<div>\n",
       "<style scoped>\n",
       "    .dataframe tbody tr th:only-of-type {\n",
       "        vertical-align: middle;\n",
       "    }\n",
       "\n",
       "    .dataframe tbody tr th {\n",
       "        vertical-align: top;\n",
       "    }\n",
       "\n",
       "    .dataframe thead th {\n",
       "        text-align: right;\n",
       "    }\n",
       "</style>\n",
       "<table border=\"1\" class=\"dataframe\">\n",
       "  <thead>\n",
       "    <tr style=\"text-align: right;\">\n",
       "      <th>clip_type</th>\n",
       "      <th>exchange_num</th>\n",
       "      <th>species</th>\n",
       "      <th>exchange</th>\n",
       "      <th>post</th>\n",
       "      <th>pre</th>\n",
       "    </tr>\n",
       "    <tr>\n",
       "      <th>index</th>\n",
       "      <th></th>\n",
       "      <th></th>\n",
       "      <th></th>\n",
       "      <th></th>\n",
       "      <th></th>\n",
       "    </tr>\n",
       "  </thead>\n",
       "  <tbody>\n",
       "    <tr>\n",
       "      <th>0</th>\n",
       "      <td>ob025-1</td>\n",
       "      <td>pz</td>\n",
       "      <td>0</td>\n",
       "      <td>0</td>\n",
       "      <td>0</td>\n",
       "    </tr>\n",
       "    <tr>\n",
       "      <th>1</th>\n",
       "      <td>ob029-1</td>\n",
       "      <td>imp</td>\n",
       "      <td>1</td>\n",
       "      <td>1</td>\n",
       "      <td>1</td>\n",
       "    </tr>\n",
       "    <tr>\n",
       "      <th>2</th>\n",
       "      <td>ob031-1</td>\n",
       "      <td>imp</td>\n",
       "      <td>1</td>\n",
       "      <td>1</td>\n",
       "      <td>0</td>\n",
       "    </tr>\n",
       "    <tr>\n",
       "      <th>3</th>\n",
       "      <td>ob033-1</td>\n",
       "      <td>pz</td>\n",
       "      <td>0</td>\n",
       "      <td>0</td>\n",
       "      <td>2</td>\n",
       "    </tr>\n",
       "    <tr>\n",
       "      <th>4</th>\n",
       "      <td>ob039-1</td>\n",
       "      <td>imp</td>\n",
       "      <td>0</td>\n",
       "      <td>0</td>\n",
       "      <td>0</td>\n",
       "    </tr>\n",
       "    <tr>\n",
       "      <th>...</th>\n",
       "      <td>...</td>\n",
       "      <td>...</td>\n",
       "      <td>...</td>\n",
       "      <td>...</td>\n",
       "      <td>...</td>\n",
       "    </tr>\n",
       "    <tr>\n",
       "      <th>58</th>\n",
       "      <td>ob114-1</td>\n",
       "      <td>pz</td>\n",
       "      <td>0</td>\n",
       "      <td>0</td>\n",
       "      <td>0</td>\n",
       "    </tr>\n",
       "    <tr>\n",
       "      <th>59</th>\n",
       "      <td>ob114-2</td>\n",
       "      <td>gz</td>\n",
       "      <td>0</td>\n",
       "      <td>0</td>\n",
       "      <td>0</td>\n",
       "    </tr>\n",
       "    <tr>\n",
       "      <th>60</th>\n",
       "      <td>ob114-2</td>\n",
       "      <td>imp</td>\n",
       "      <td>0</td>\n",
       "      <td>0</td>\n",
       "      <td>0</td>\n",
       "    </tr>\n",
       "    <tr>\n",
       "      <th>61</th>\n",
       "      <td>ob114-2</td>\n",
       "      <td>pz</td>\n",
       "      <td>0</td>\n",
       "      <td>0</td>\n",
       "      <td>0</td>\n",
       "    </tr>\n",
       "    <tr>\n",
       "      <th>62</th>\n",
       "      <td>ob115-2</td>\n",
       "      <td>pz</td>\n",
       "      <td>2</td>\n",
       "      <td>2</td>\n",
       "      <td>2</td>\n",
       "    </tr>\n",
       "  </tbody>\n",
       "</table>\n",
       "<p>63 rows × 5 columns</p>\n",
       "</div>"
      ],
      "text/plain": [
       "clip_type exchange_num species exchange post pre\n",
       "index                                           \n",
       "0              ob025-1      pz        0    0   0\n",
       "1              ob029-1     imp        1    1   1\n",
       "2              ob031-1     imp        1    1   0\n",
       "3              ob033-1      pz        0    0   2\n",
       "4              ob039-1     imp        0    0   0\n",
       "...                ...     ...      ...  ...  ..\n",
       "58             ob114-1      pz        0    0   0\n",
       "59             ob114-2      gz        0    0   0\n",
       "60             ob114-2     imp        0    0   0\n",
       "61             ob114-2      pz        0    0   0\n",
       "62             ob115-2      pz        2    2   2\n",
       "\n",
       "[63 rows x 5 columns]"
      ]
     },
     "execution_count": 17,
     "metadata": {},
     "output_type": "execute_result"
    }
   ],
   "source": [
    "# load data\n",
    "df = pd.read_csv('data/exchanges_clean.csv')\n",
    "df['group_behavior'] = df['group_behavior'].astype('object')\n",
    "\n",
    "# reshape data\n",
    "df2 = df.drop(['observation','start_flight', 'start_timestamp', 'end_flight', 'end_timestamp'], axis = 1)\n",
    "df_new = df2.pivot(index = ['exchange_num','species'], columns = 'clip_type', values='group_behavior')\n",
    "df_new.dropna(inplace = True)\n",
    "df_new.reset_index(inplace=True)  \n",
    "df_new.index.rename('index', inplace = True)\n",
    "df_new"
   ]
  },
  {
   "cell_type": "code",
   "execution_count": 18,
   "metadata": {},
   "outputs": [
    {
     "data": {
      "text/html": [
       "<div>\n",
       "<style scoped>\n",
       "    .dataframe tbody tr th:only-of-type {\n",
       "        vertical-align: middle;\n",
       "    }\n",
       "\n",
       "    .dataframe tbody tr th {\n",
       "        vertical-align: top;\n",
       "    }\n",
       "\n",
       "    .dataframe thead th {\n",
       "        text-align: right;\n",
       "    }\n",
       "</style>\n",
       "<table border=\"1\" class=\"dataframe\">\n",
       "  <thead>\n",
       "    <tr style=\"text-align: right;\">\n",
       "      <th></th>\n",
       "      <th>W-statistic</th>\n",
       "      <th>p-value</th>\n",
       "    </tr>\n",
       "  </thead>\n",
       "  <tbody>\n",
       "    <tr>\n",
       "      <th>before vs during</th>\n",
       "      <td>336.0</td>\n",
       "      <td>0.928090</td>\n",
       "    </tr>\n",
       "    <tr>\n",
       "      <th>during vs after</th>\n",
       "      <td>241.5</td>\n",
       "      <td>0.786397</td>\n",
       "    </tr>\n",
       "    <tr>\n",
       "      <th>before vs after</th>\n",
       "      <td>382.0</td>\n",
       "      <td>0.726551</td>\n",
       "    </tr>\n",
       "  </tbody>\n",
       "</table>\n",
       "</div>"
      ],
      "text/plain": [
       "                  W-statistic   p-value\n",
       "before vs during        336.0  0.928090\n",
       "during vs after         241.5  0.786397\n",
       "before vs after         382.0  0.726551"
      ]
     },
     "execution_count": 18,
     "metadata": {},
     "output_type": "execute_result"
    }
   ],
   "source": [
    "# Pratt zero method is more robust for ordinal data. Do two-tailed tests.\n",
    "\n",
    "# Compare behavior before exchange to behavior during exchange\n",
    "r1 = wilcoxon(df_new['pre'], df_new['exchange'], zero_method = 'pratt')\n",
    "# Compare behavior during exchange to behavior after exchange\n",
    "r2 = wilcoxon(df_new['exchange'], df_new['post'], zero_method = 'pratt')\n",
    "# Compare behavior before exchange to after exchange\n",
    "r3 = wilcoxon(df_new['pre'], df_new['post'], zero_method = 'pratt')\n",
    "\n",
    "# print results in table\n",
    "pd.DataFrame(np.array([r1, r2, r3]), columns = ['W-statistic', 'p-value'], \n",
    "             index = ['before vs during', 'during vs after', 'before vs after'])"
   ]
  },
  {
   "cell_type": "code",
   "execution_count": 4,
   "metadata": {},
   "outputs": [
    {
     "data": {
      "image/png": "[encoded data removed]",
      "text/plain": [
       "<Figure size 216x648 with 3 Axes>"
      ]
     },
     "metadata": {
      "needs_background": "light"
     },
     "output_type": "display_data"
    }
   ],
   "source": [
    "g = sns.FacetGrid(df, row = 'clip_type', row_order = ['pre', 'exchange', 'post'])\n",
    "g.map_dataframe(sns.countplot, x=\"group_behavior\")\n",
    "g.set(xticks = [0,1,2,3], xlim=[-0.5,3.6])\n",
    "g.set_axis_labels(\"Group Behavior\", \"Groups (n)\")\n",
    "g.set_xticklabels(['Resting/\\nforaging', 'Alert', 'Walking', 'Fleeing'])\n",
    "for ax, title in zip(g.axes.flat, ['Before exchange', 'During exchange', 'After exchange']):\n",
    "    ax.set_title(title)"
   ]
  },
  {
   "cell_type": "markdown",
   "metadata": {},
   "source": [
    "Alternative visualization, showing each datapoint color-coded by species:"
   ]
  },
  {
   "cell_type": "code",
   "execution_count": 4,
   "metadata": {},
   "outputs": [],
   "source": [
    "# # Create a version of the behavior scores in which each score has a small value added to it. This will allow the\n",
    "# # data points to be jittered in a swarm plot so that all points can be displayed.\n",
    "# df['jittered_scores'] = (np.random.randint(-250,250,len(df))/1000) + df['group_behavior']"
   ]
  },
  {
   "cell_type": "code",
   "execution_count": 7,
   "metadata": {},
   "outputs": [
    {
     "data": {
      "image/png": "[encoded data removed]",
      "text/plain": [
       "<Figure size 432x288 with 1 Axes>"
      ]
     },
     "metadata": {
      "needs_background": "light"
     },
     "output_type": "display_data"
    }
   ],
   "source": [
    "# #ax = sns.violinplot(x = 'clip_type', y = 'group_behavior', data = df, order = ['pre', 'exchange', 'post'])\n",
    "# #ax = sns.swarmplot(x = 'clip_type', y = 'jittered_scores', data = df, order = ['pre', 'exchange', 'post'], color = '0.2')\n",
    "# ax = sns.swarmplot(x = 'clip_type', y = 'jittered_scores', hue = 'species', data = df, order = ['pre', 'exchange', 'post'])\n",
    "# ax.set(xlabel='Time Period', ylabel='Group Behavior Score', yticks = [0,1,2,3], xticklabels = ['Before Exchange', 'During Exchange', 'After Exchange'],\n",
    "#       yticklabels = ['Resting', 'Alert', 'Walking', \"Fleeing\"])\n",
    "# sns.despine(offset = 10)"
   ]
  }
 ],
 "metadata": {
  "kernelspec": {
   "display_name": "Python 3",
   "language": "python",
   "name": "python3"
  },
  "language_info": {
   "codemirror_mode": {
    "name": "ipython",
    "version": 3
   },
   "file_extension": ".py",
   "mimetype": "text/x-python",
   "name": "python",
   "nbconvert_exporter": "python",
   "pygments_lexer": "ipython3",
   "version": "3.8.5"
  }
 },
 "nbformat": 4,
 "nbformat_minor": 5
}
