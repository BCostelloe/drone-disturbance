{
 "cells": [
  {
   "cell_type": "code",
   "execution_count": null,
   "metadata": {},
   "outputs": [],
   "source": [
    "# This notebook contains code to run all analyses and generate all figures for the drone disturbance paper \n",
    "# (Costelloe et al. 2021)"
   ]
  },
  {
   "cell_type": "code",
   "execution_count": null,
   "metadata": {},
   "outputs": [],
   "source": [
    "# Load required packages\n",
    "import pandas as pd"
   ]
  },
  {
   "cell_type": "code",
   "execution_count": null,
   "metadata": {},
   "outputs": [],
   "source": [
    "# Read in data\n",
    "\n",
    "# This csv has the behavioral scores for each group at the start of the observation, as well as measures of drone\n",
    "# flight behavior and characteristics of the group, habitat, and flight conditions.\n",
    "mod_df = \n",
    "\n",
    "# This csv has behavioral scores for each group at 7 minute intervals throughout the observation.\n",
    "surv_df =\n",
    "\n",
    "# This csv has behavioral scores for each group in the 2 minutes before and after each drone exchange, and \n",
    "# during the duration of the drone exchange.\n",
    "ex_df = "
   ]
  }
 ],
 "metadata": {
  "kernelspec": {
   "display_name": "Python 3",
   "language": "python",
   "name": "python3"
  },
  "language_info": {
   "codemirror_mode": {
    "name": "ipython",
    "version": 3
   },
   "file_extension": ".py",
   "mimetype": "text/x-python",
   "name": "python",
   "nbconvert_exporter": "python",
   "pygments_lexer": "ipython3",
   "version": "3.8.5"
  }
 },
 "nbformat": 4,
 "nbformat_minor": 4
}
